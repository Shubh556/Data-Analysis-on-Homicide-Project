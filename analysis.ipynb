{
 "cells": [
  {
   "cell_type": "markdown",
   "metadata": {},
   "source": [
    "### Importing Necessary Library and doing some basic checks on data "
   ]
  },
  {
   "cell_type": "code",
   "execution_count": 2,
   "metadata": {},
   "outputs": [],
   "source": [
    "import pandas as pd\n",
    "import matplotlib.pyplot as plt\n",
    "import seaborn as sns\n",
    "import plotly.express as px"
   ]
  },
  {
   "cell_type": "code",
   "execution_count": 3,
   "metadata": {},
   "outputs": [],
   "source": [
    "df=pd.read_csv(\"https://raw.githubusercontent.com/Rruhid/data/refs/heads/master/homicide_by_countries.csv\")"
   ]
  },
  {
   "cell_type": "code",
   "execution_count": 4,
   "metadata": {},
   "outputs": [
    {
     "data": {
      "text/html": [
       "<div>\n",
       "<style scoped>\n",
       "    .dataframe tbody tr th:only-of-type {\n",
       "        vertical-align: middle;\n",
       "    }\n",
       "\n",
       "    .dataframe tbody tr th {\n",
       "        vertical-align: top;\n",
       "    }\n",
       "\n",
       "    .dataframe thead th {\n",
       "        text-align: right;\n",
       "    }\n",
       "</style>\n",
       "<table border=\"1\" class=\"dataframe\">\n",
       "  <thead>\n",
       "    <tr style=\"text-align: right;\">\n",
       "      <th></th>\n",
       "      <th>Location</th>\n",
       "      <th>Region</th>\n",
       "      <th>Subregion</th>\n",
       "      <th>Rate</th>\n",
       "      <th>Count</th>\n",
       "      <th>Year</th>\n",
       "    </tr>\n",
       "  </thead>\n",
       "  <tbody>\n",
       "    <tr>\n",
       "      <th>0</th>\n",
       "      <td>Afghanistan</td>\n",
       "      <td>Asia</td>\n",
       "      <td>Southern Asia</td>\n",
       "      <td>6.7</td>\n",
       "      <td>2474</td>\n",
       "      <td>2018</td>\n",
       "    </tr>\n",
       "    <tr>\n",
       "      <th>1</th>\n",
       "      <td>Albania</td>\n",
       "      <td>Europe</td>\n",
       "      <td>Southern Europe</td>\n",
       "      <td>2.1</td>\n",
       "      <td>61</td>\n",
       "      <td>2020</td>\n",
       "    </tr>\n",
       "    <tr>\n",
       "      <th>2</th>\n",
       "      <td>Algeria</td>\n",
       "      <td>Africa</td>\n",
       "      <td>Northern Africa</td>\n",
       "      <td>1.3</td>\n",
       "      <td>580</td>\n",
       "      <td>2020</td>\n",
       "    </tr>\n",
       "    <tr>\n",
       "      <th>3</th>\n",
       "      <td>Andorra</td>\n",
       "      <td>Europe</td>\n",
       "      <td>Southern Europe</td>\n",
       "      <td>2.6</td>\n",
       "      <td>2</td>\n",
       "      <td>2020</td>\n",
       "    </tr>\n",
       "    <tr>\n",
       "      <th>4</th>\n",
       "      <td>Angola</td>\n",
       "      <td>Africa</td>\n",
       "      <td>Middle Africa</td>\n",
       "      <td>4.8</td>\n",
       "      <td>1217</td>\n",
       "      <td>2012</td>\n",
       "    </tr>\n",
       "    <tr>\n",
       "      <th>...</th>\n",
       "      <td>...</td>\n",
       "      <td>...</td>\n",
       "      <td>...</td>\n",
       "      <td>...</td>\n",
       "      <td>...</td>\n",
       "      <td>...</td>\n",
       "    </tr>\n",
       "    <tr>\n",
       "      <th>190</th>\n",
       "      <td>Venezuela</td>\n",
       "      <td>Americas</td>\n",
       "      <td>South America</td>\n",
       "      <td>36.7</td>\n",
       "      <td>10598</td>\n",
       "      <td>2018</td>\n",
       "    </tr>\n",
       "    <tr>\n",
       "      <th>191</th>\n",
       "      <td>Vietnam</td>\n",
       "      <td>Asia</td>\n",
       "      <td>South-Eastern Asia</td>\n",
       "      <td>1.5</td>\n",
       "      <td>1358</td>\n",
       "      <td>2011</td>\n",
       "    </tr>\n",
       "    <tr>\n",
       "      <th>192</th>\n",
       "      <td>Yemen</td>\n",
       "      <td>Asia</td>\n",
       "      <td>Western Asia</td>\n",
       "      <td>6.8</td>\n",
       "      <td>1703</td>\n",
       "      <td>2013</td>\n",
       "    </tr>\n",
       "    <tr>\n",
       "      <th>193</th>\n",
       "      <td>Zambia</td>\n",
       "      <td>Africa</td>\n",
       "      <td>Eastern Africa</td>\n",
       "      <td>5.4</td>\n",
       "      <td>853</td>\n",
       "      <td>2015</td>\n",
       "    </tr>\n",
       "    <tr>\n",
       "      <th>194</th>\n",
       "      <td>Zimbabwe</td>\n",
       "      <td>Africa</td>\n",
       "      <td>Eastern Africa</td>\n",
       "      <td>7.5</td>\n",
       "      <td>981</td>\n",
       "      <td>2012</td>\n",
       "    </tr>\n",
       "  </tbody>\n",
       "</table>\n",
       "<p>195 rows × 6 columns</p>\n",
       "</div>"
      ],
      "text/plain": [
       "        Location    Region           Subregion  Rate  Count  Year\n",
       "0    Afghanistan      Asia       Southern Asia   6.7   2474  2018\n",
       "1        Albania    Europe     Southern Europe   2.1     61  2020\n",
       "2        Algeria    Africa     Northern Africa   1.3    580  2020\n",
       "3        Andorra    Europe     Southern Europe   2.6      2  2020\n",
       "4         Angola    Africa       Middle Africa   4.8   1217  2012\n",
       "..           ...       ...                 ...   ...    ...   ...\n",
       "190    Venezuela  Americas       South America  36.7  10598  2018\n",
       "191      Vietnam      Asia  South-Eastern Asia   1.5   1358  2011\n",
       "192        Yemen      Asia        Western Asia   6.8   1703  2013\n",
       "193       Zambia    Africa      Eastern Africa   5.4    853  2015\n",
       "194     Zimbabwe    Africa      Eastern Africa   7.5    981  2012\n",
       "\n",
       "[195 rows x 6 columns]"
      ]
     },
     "execution_count": 4,
     "metadata": {},
     "output_type": "execute_result"
    }
   ],
   "source": [
    "df"
   ]
  },
  {
   "cell_type": "code",
   "execution_count": 5,
   "metadata": {},
   "outputs": [
    {
     "data": {
      "text/plain": [
       "(195, 6)"
      ]
     },
     "execution_count": 5,
     "metadata": {},
     "output_type": "execute_result"
    }
   ],
   "source": [
    "df.shape"
   ]
  },
  {
   "cell_type": "code",
   "execution_count": 6,
   "metadata": {},
   "outputs": [
    {
     "name": "stdout",
     "output_type": "stream",
     "text": [
      "<class 'pandas.core.frame.DataFrame'>\n",
      "RangeIndex: 195 entries, 0 to 194\n",
      "Data columns (total 6 columns):\n",
      " #   Column     Non-Null Count  Dtype  \n",
      "---  ------     --------------  -----  \n",
      " 0   Location   195 non-null    object \n",
      " 1   Region     195 non-null    object \n",
      " 2   Subregion  195 non-null    object \n",
      " 3   Rate       195 non-null    float64\n",
      " 4   Count      195 non-null    int64  \n",
      " 5   Year       195 non-null    int64  \n",
      "dtypes: float64(1), int64(2), object(3)\n",
      "memory usage: 9.3+ KB\n"
     ]
    }
   ],
   "source": [
    "df.info()"
   ]
  },
  {
   "cell_type": "code",
   "execution_count": 7,
   "metadata": {},
   "outputs": [
    {
     "data": {
      "text/html": [
       "<div>\n",
       "<style scoped>\n",
       "    .dataframe tbody tr th:only-of-type {\n",
       "        vertical-align: middle;\n",
       "    }\n",
       "\n",
       "    .dataframe tbody tr th {\n",
       "        vertical-align: top;\n",
       "    }\n",
       "\n",
       "    .dataframe thead th {\n",
       "        text-align: right;\n",
       "    }\n",
       "</style>\n",
       "<table border=\"1\" class=\"dataframe\">\n",
       "  <thead>\n",
       "    <tr style=\"text-align: right;\">\n",
       "      <th></th>\n",
       "      <th>Rate</th>\n",
       "      <th>Count</th>\n",
       "      <th>Year</th>\n",
       "    </tr>\n",
       "  </thead>\n",
       "  <tbody>\n",
       "    <tr>\n",
       "      <th>count</th>\n",
       "      <td>195.000000</td>\n",
       "      <td>195.000000</td>\n",
       "      <td>195.000000</td>\n",
       "    </tr>\n",
       "    <tr>\n",
       "      <th>mean</th>\n",
       "      <td>6.845128</td>\n",
       "      <td>1942.800000</td>\n",
       "      <td>2017.420513</td>\n",
       "    </tr>\n",
       "    <tr>\n",
       "      <th>std</th>\n",
       "      <td>9.600060</td>\n",
       "      <td>6553.343376</td>\n",
       "      <td>3.589445</td>\n",
       "    </tr>\n",
       "    <tr>\n",
       "      <th>min</th>\n",
       "      <td>0.000000</td>\n",
       "      <td>0.000000</td>\n",
       "      <td>2006.000000</td>\n",
       "    </tr>\n",
       "    <tr>\n",
       "      <th>25%</th>\n",
       "      <td>1.100000</td>\n",
       "      <td>28.000000</td>\n",
       "      <td>2016.000000</td>\n",
       "    </tr>\n",
       "    <tr>\n",
       "      <th>50%</th>\n",
       "      <td>2.600000</td>\n",
       "      <td>128.000000</td>\n",
       "      <td>2019.000000</td>\n",
       "    </tr>\n",
       "    <tr>\n",
       "      <th>75%</th>\n",
       "      <td>7.850000</td>\n",
       "      <td>785.000000</td>\n",
       "      <td>2020.000000</td>\n",
       "    </tr>\n",
       "    <tr>\n",
       "      <th>max</th>\n",
       "      <td>49.300000</td>\n",
       "      <td>47722.000000</td>\n",
       "      <td>2021.000000</td>\n",
       "    </tr>\n",
       "  </tbody>\n",
       "</table>\n",
       "</div>"
      ],
      "text/plain": [
       "             Rate         Count         Year\n",
       "count  195.000000    195.000000   195.000000\n",
       "mean     6.845128   1942.800000  2017.420513\n",
       "std      9.600060   6553.343376     3.589445\n",
       "min      0.000000      0.000000  2006.000000\n",
       "25%      1.100000     28.000000  2016.000000\n",
       "50%      2.600000    128.000000  2019.000000\n",
       "75%      7.850000    785.000000  2020.000000\n",
       "max     49.300000  47722.000000  2021.000000"
      ]
     },
     "execution_count": 7,
     "metadata": {},
     "output_type": "execute_result"
    }
   ],
   "source": [
    "df.describe()"
   ]
  },
  {
   "cell_type": "code",
   "execution_count": 8,
   "metadata": {},
   "outputs": [
    {
     "data": {
      "text/plain": [
       "Location     0\n",
       "Region       0\n",
       "Subregion    0\n",
       "Rate         0\n",
       "Count        0\n",
       "Year         0\n",
       "dtype: int64"
      ]
     },
     "execution_count": 8,
     "metadata": {},
     "output_type": "execute_result"
    }
   ],
   "source": [
    "df.isnull().sum()"
   ]
  },
  {
   "cell_type": "code",
   "execution_count": 9,
   "metadata": {},
   "outputs": [],
   "source": [
    "df['Rate']=df[\"Rate\"].astype('int64')"
   ]
  },
  {
   "cell_type": "code",
   "execution_count": 10,
   "metadata": {},
   "outputs": [
    {
     "name": "stdout",
     "output_type": "stream",
     "text": [
      "<class 'pandas.core.frame.DataFrame'>\n",
      "RangeIndex: 195 entries, 0 to 194\n",
      "Data columns (total 6 columns):\n",
      " #   Column     Non-Null Count  Dtype \n",
      "---  ------     --------------  ----- \n",
      " 0   Location   195 non-null    object\n",
      " 1   Region     195 non-null    object\n",
      " 2   Subregion  195 non-null    object\n",
      " 3   Rate       195 non-null    int64 \n",
      " 4   Count      195 non-null    int64 \n",
      " 5   Year       195 non-null    int64 \n",
      "dtypes: int64(3), object(3)\n",
      "memory usage: 9.3+ KB\n"
     ]
    }
   ],
   "source": [
    "df.info()"
   ]
  },
  {
   "cell_type": "code",
   "execution_count": 11,
   "metadata": {},
   "outputs": [
    {
     "data": {
      "text/html": [
       "<div>\n",
       "<style scoped>\n",
       "    .dataframe tbody tr th:only-of-type {\n",
       "        vertical-align: middle;\n",
       "    }\n",
       "\n",
       "    .dataframe tbody tr th {\n",
       "        vertical-align: top;\n",
       "    }\n",
       "\n",
       "    .dataframe thead th {\n",
       "        text-align: right;\n",
       "    }\n",
       "</style>\n",
       "<table border=\"1\" class=\"dataframe\">\n",
       "  <thead>\n",
       "    <tr style=\"text-align: right;\">\n",
       "      <th></th>\n",
       "      <th>Location</th>\n",
       "      <th>Region</th>\n",
       "      <th>Subregion</th>\n",
       "      <th>Rate</th>\n",
       "      <th>Count</th>\n",
       "      <th>Year</th>\n",
       "    </tr>\n",
       "  </thead>\n",
       "  <tbody>\n",
       "    <tr>\n",
       "      <th>0</th>\n",
       "      <td>Afghanistan</td>\n",
       "      <td>Asia</td>\n",
       "      <td>Southern Asia</td>\n",
       "      <td>6</td>\n",
       "      <td>2474</td>\n",
       "      <td>2018</td>\n",
       "    </tr>\n",
       "    <tr>\n",
       "      <th>1</th>\n",
       "      <td>Albania</td>\n",
       "      <td>Europe</td>\n",
       "      <td>Southern Europe</td>\n",
       "      <td>2</td>\n",
       "      <td>61</td>\n",
       "      <td>2020</td>\n",
       "    </tr>\n",
       "    <tr>\n",
       "      <th>2</th>\n",
       "      <td>Algeria</td>\n",
       "      <td>Africa</td>\n",
       "      <td>Northern Africa</td>\n",
       "      <td>1</td>\n",
       "      <td>580</td>\n",
       "      <td>2020</td>\n",
       "    </tr>\n",
       "    <tr>\n",
       "      <th>3</th>\n",
       "      <td>Andorra</td>\n",
       "      <td>Europe</td>\n",
       "      <td>Southern Europe</td>\n",
       "      <td>2</td>\n",
       "      <td>2</td>\n",
       "      <td>2020</td>\n",
       "    </tr>\n",
       "    <tr>\n",
       "      <th>4</th>\n",
       "      <td>Angola</td>\n",
       "      <td>Africa</td>\n",
       "      <td>Middle Africa</td>\n",
       "      <td>4</td>\n",
       "      <td>1217</td>\n",
       "      <td>2012</td>\n",
       "    </tr>\n",
       "    <tr>\n",
       "      <th>...</th>\n",
       "      <td>...</td>\n",
       "      <td>...</td>\n",
       "      <td>...</td>\n",
       "      <td>...</td>\n",
       "      <td>...</td>\n",
       "      <td>...</td>\n",
       "    </tr>\n",
       "    <tr>\n",
       "      <th>190</th>\n",
       "      <td>Venezuela</td>\n",
       "      <td>Americas</td>\n",
       "      <td>South America</td>\n",
       "      <td>36</td>\n",
       "      <td>10598</td>\n",
       "      <td>2018</td>\n",
       "    </tr>\n",
       "    <tr>\n",
       "      <th>191</th>\n",
       "      <td>Vietnam</td>\n",
       "      <td>Asia</td>\n",
       "      <td>South-Eastern Asia</td>\n",
       "      <td>1</td>\n",
       "      <td>1358</td>\n",
       "      <td>2011</td>\n",
       "    </tr>\n",
       "    <tr>\n",
       "      <th>192</th>\n",
       "      <td>Yemen</td>\n",
       "      <td>Asia</td>\n",
       "      <td>Western Asia</td>\n",
       "      <td>6</td>\n",
       "      <td>1703</td>\n",
       "      <td>2013</td>\n",
       "    </tr>\n",
       "    <tr>\n",
       "      <th>193</th>\n",
       "      <td>Zambia</td>\n",
       "      <td>Africa</td>\n",
       "      <td>Eastern Africa</td>\n",
       "      <td>5</td>\n",
       "      <td>853</td>\n",
       "      <td>2015</td>\n",
       "    </tr>\n",
       "    <tr>\n",
       "      <th>194</th>\n",
       "      <td>Zimbabwe</td>\n",
       "      <td>Africa</td>\n",
       "      <td>Eastern Africa</td>\n",
       "      <td>7</td>\n",
       "      <td>981</td>\n",
       "      <td>2012</td>\n",
       "    </tr>\n",
       "  </tbody>\n",
       "</table>\n",
       "<p>195 rows × 6 columns</p>\n",
       "</div>"
      ],
      "text/plain": [
       "        Location    Region           Subregion  Rate  Count  Year\n",
       "0    Afghanistan      Asia       Southern Asia     6   2474  2018\n",
       "1        Albania    Europe     Southern Europe     2     61  2020\n",
       "2        Algeria    Africa     Northern Africa     1    580  2020\n",
       "3        Andorra    Europe     Southern Europe     2      2  2020\n",
       "4         Angola    Africa       Middle Africa     4   1217  2012\n",
       "..           ...       ...                 ...   ...    ...   ...\n",
       "190    Venezuela  Americas       South America    36  10598  2018\n",
       "191      Vietnam      Asia  South-Eastern Asia     1   1358  2011\n",
       "192        Yemen      Asia        Western Asia     6   1703  2013\n",
       "193       Zambia    Africa      Eastern Africa     5    853  2015\n",
       "194     Zimbabwe    Africa      Eastern Africa     7    981  2012\n",
       "\n",
       "[195 rows x 6 columns]"
      ]
     },
     "execution_count": 11,
     "metadata": {},
     "output_type": "execute_result"
    }
   ],
   "source": [
    "df"
   ]
  },
  {
   "cell_type": "markdown",
   "metadata": {},
   "source": [
    "### Replace name of Australia, New Zealand with Aus,NZ"
   ]
  },
  {
   "cell_type": "code",
   "execution_count": 12,
   "metadata": {},
   "outputs": [],
   "source": [
    "df.replace({'Subregion': {'Australia, New Zealand': 'Aus,NZ'}}, inplace=True)"
   ]
  },
  {
   "cell_type": "code",
   "execution_count": 13,
   "metadata": {},
   "outputs": [
    {
     "data": {
      "text/html": [
       "<div>\n",
       "<style scoped>\n",
       "    .dataframe tbody tr th:only-of-type {\n",
       "        vertical-align: middle;\n",
       "    }\n",
       "\n",
       "    .dataframe tbody tr th {\n",
       "        vertical-align: top;\n",
       "    }\n",
       "\n",
       "    .dataframe thead th {\n",
       "        text-align: right;\n",
       "    }\n",
       "</style>\n",
       "<table border=\"1\" class=\"dataframe\">\n",
       "  <thead>\n",
       "    <tr style=\"text-align: right;\">\n",
       "      <th></th>\n",
       "      <th>Location</th>\n",
       "      <th>Region</th>\n",
       "      <th>Subregion</th>\n",
       "      <th>Rate</th>\n",
       "      <th>Count</th>\n",
       "      <th>Year</th>\n",
       "    </tr>\n",
       "  </thead>\n",
       "  <tbody>\n",
       "    <tr>\n",
       "      <th>0</th>\n",
       "      <td>Afghanistan</td>\n",
       "      <td>Asia</td>\n",
       "      <td>Southern Asia</td>\n",
       "      <td>6</td>\n",
       "      <td>2474</td>\n",
       "      <td>2018</td>\n",
       "    </tr>\n",
       "    <tr>\n",
       "      <th>1</th>\n",
       "      <td>Albania</td>\n",
       "      <td>Europe</td>\n",
       "      <td>Southern Europe</td>\n",
       "      <td>2</td>\n",
       "      <td>61</td>\n",
       "      <td>2020</td>\n",
       "    </tr>\n",
       "    <tr>\n",
       "      <th>2</th>\n",
       "      <td>Algeria</td>\n",
       "      <td>Africa</td>\n",
       "      <td>Northern Africa</td>\n",
       "      <td>1</td>\n",
       "      <td>580</td>\n",
       "      <td>2020</td>\n",
       "    </tr>\n",
       "    <tr>\n",
       "      <th>3</th>\n",
       "      <td>Andorra</td>\n",
       "      <td>Europe</td>\n",
       "      <td>Southern Europe</td>\n",
       "      <td>2</td>\n",
       "      <td>2</td>\n",
       "      <td>2020</td>\n",
       "    </tr>\n",
       "    <tr>\n",
       "      <th>4</th>\n",
       "      <td>Angola</td>\n",
       "      <td>Africa</td>\n",
       "      <td>Middle Africa</td>\n",
       "      <td>4</td>\n",
       "      <td>1217</td>\n",
       "      <td>2012</td>\n",
       "    </tr>\n",
       "    <tr>\n",
       "      <th>...</th>\n",
       "      <td>...</td>\n",
       "      <td>...</td>\n",
       "      <td>...</td>\n",
       "      <td>...</td>\n",
       "      <td>...</td>\n",
       "      <td>...</td>\n",
       "    </tr>\n",
       "    <tr>\n",
       "      <th>190</th>\n",
       "      <td>Venezuela</td>\n",
       "      <td>Americas</td>\n",
       "      <td>South America</td>\n",
       "      <td>36</td>\n",
       "      <td>10598</td>\n",
       "      <td>2018</td>\n",
       "    </tr>\n",
       "    <tr>\n",
       "      <th>191</th>\n",
       "      <td>Vietnam</td>\n",
       "      <td>Asia</td>\n",
       "      <td>South-Eastern Asia</td>\n",
       "      <td>1</td>\n",
       "      <td>1358</td>\n",
       "      <td>2011</td>\n",
       "    </tr>\n",
       "    <tr>\n",
       "      <th>192</th>\n",
       "      <td>Yemen</td>\n",
       "      <td>Asia</td>\n",
       "      <td>Western Asia</td>\n",
       "      <td>6</td>\n",
       "      <td>1703</td>\n",
       "      <td>2013</td>\n",
       "    </tr>\n",
       "    <tr>\n",
       "      <th>193</th>\n",
       "      <td>Zambia</td>\n",
       "      <td>Africa</td>\n",
       "      <td>Eastern Africa</td>\n",
       "      <td>5</td>\n",
       "      <td>853</td>\n",
       "      <td>2015</td>\n",
       "    </tr>\n",
       "    <tr>\n",
       "      <th>194</th>\n",
       "      <td>Zimbabwe</td>\n",
       "      <td>Africa</td>\n",
       "      <td>Eastern Africa</td>\n",
       "      <td>7</td>\n",
       "      <td>981</td>\n",
       "      <td>2012</td>\n",
       "    </tr>\n",
       "  </tbody>\n",
       "</table>\n",
       "<p>195 rows × 6 columns</p>\n",
       "</div>"
      ],
      "text/plain": [
       "        Location    Region           Subregion  Rate  Count  Year\n",
       "0    Afghanistan      Asia       Southern Asia     6   2474  2018\n",
       "1        Albania    Europe     Southern Europe     2     61  2020\n",
       "2        Algeria    Africa     Northern Africa     1    580  2020\n",
       "3        Andorra    Europe     Southern Europe     2      2  2020\n",
       "4         Angola    Africa       Middle Africa     4   1217  2012\n",
       "..           ...       ...                 ...   ...    ...   ...\n",
       "190    Venezuela  Americas       South America    36  10598  2018\n",
       "191      Vietnam      Asia  South-Eastern Asia     1   1358  2011\n",
       "192        Yemen      Asia        Western Asia     6   1703  2013\n",
       "193       Zambia    Africa      Eastern Africa     5    853  2015\n",
       "194     Zimbabwe    Africa      Eastern Africa     7    981  2012\n",
       "\n",
       "[195 rows x 6 columns]"
      ]
     },
     "execution_count": 13,
     "metadata": {},
     "output_type": "execute_result"
    }
   ],
   "source": [
    "df"
   ]
  },
  {
   "cell_type": "markdown",
   "metadata": {},
   "source": [
    "### Sorting Values by Count"
   ]
  },
  {
   "cell_type": "code",
   "execution_count": 14,
   "metadata": {},
   "outputs": [],
   "source": [
    "newdf_1=df.sort_values('Count',ascending=False)"
   ]
  },
  {
   "cell_type": "code",
   "execution_count": 15,
   "metadata": {},
   "outputs": [
    {
     "data": {
      "text/html": [
       "<div>\n",
       "<style scoped>\n",
       "    .dataframe tbody tr th:only-of-type {\n",
       "        vertical-align: middle;\n",
       "    }\n",
       "\n",
       "    .dataframe tbody tr th {\n",
       "        vertical-align: top;\n",
       "    }\n",
       "\n",
       "    .dataframe thead th {\n",
       "        text-align: right;\n",
       "    }\n",
       "</style>\n",
       "<table border=\"1\" class=\"dataframe\">\n",
       "  <thead>\n",
       "    <tr style=\"text-align: right;\">\n",
       "      <th></th>\n",
       "      <th>Location</th>\n",
       "      <th>Region</th>\n",
       "      <th>Subregion</th>\n",
       "      <th>Rate</th>\n",
       "      <th>Count</th>\n",
       "      <th>Year</th>\n",
       "    </tr>\n",
       "  </thead>\n",
       "  <tbody>\n",
       "    <tr>\n",
       "      <th>0</th>\n",
       "      <td>Brazil</td>\n",
       "      <td>Americas</td>\n",
       "      <td>South America</td>\n",
       "      <td>22</td>\n",
       "      <td>47722</td>\n",
       "      <td>2020</td>\n",
       "    </tr>\n",
       "    <tr>\n",
       "      <th>1</th>\n",
       "      <td>Nigeria</td>\n",
       "      <td>Africa</td>\n",
       "      <td>Western Africa</td>\n",
       "      <td>22</td>\n",
       "      <td>44200</td>\n",
       "      <td>2019</td>\n",
       "    </tr>\n",
       "    <tr>\n",
       "      <th>2</th>\n",
       "      <td>India</td>\n",
       "      <td>Asia</td>\n",
       "      <td>Southern Asia</td>\n",
       "      <td>3</td>\n",
       "      <td>40651</td>\n",
       "      <td>2020</td>\n",
       "    </tr>\n",
       "    <tr>\n",
       "      <th>3</th>\n",
       "      <td>Mexico</td>\n",
       "      <td>Americas</td>\n",
       "      <td>Central America</td>\n",
       "      <td>28</td>\n",
       "      <td>36579</td>\n",
       "      <td>2020</td>\n",
       "    </tr>\n",
       "    <tr>\n",
       "      <th>4</th>\n",
       "      <td>United States</td>\n",
       "      <td>Americas</td>\n",
       "      <td>Northern America</td>\n",
       "      <td>6</td>\n",
       "      <td>21570</td>\n",
       "      <td>2020</td>\n",
       "    </tr>\n",
       "    <tr>\n",
       "      <th>...</th>\n",
       "      <td>...</td>\n",
       "      <td>...</td>\n",
       "      <td>...</td>\n",
       "      <td>...</td>\n",
       "      <td>...</td>\n",
       "      <td>...</td>\n",
       "    </tr>\n",
       "    <tr>\n",
       "      <th>190</th>\n",
       "      <td>Holy See</td>\n",
       "      <td>Europe</td>\n",
       "      <td>Southern Europe</td>\n",
       "      <td>0</td>\n",
       "      <td>0</td>\n",
       "      <td>2015</td>\n",
       "    </tr>\n",
       "    <tr>\n",
       "      <th>191</th>\n",
       "      <td>Channel Islands</td>\n",
       "      <td>Europe</td>\n",
       "      <td>Northern Europe</td>\n",
       "      <td>0</td>\n",
       "      <td>0</td>\n",
       "      <td>2010</td>\n",
       "    </tr>\n",
       "    <tr>\n",
       "      <th>192</th>\n",
       "      <td>Saint Helena</td>\n",
       "      <td>Africa</td>\n",
       "      <td>Western Africa</td>\n",
       "      <td>0</td>\n",
       "      <td>0</td>\n",
       "      <td>2009</td>\n",
       "    </tr>\n",
       "    <tr>\n",
       "      <th>193</th>\n",
       "      <td>San Marino</td>\n",
       "      <td>Europe</td>\n",
       "      <td>Southern Europe</td>\n",
       "      <td>0</td>\n",
       "      <td>0</td>\n",
       "      <td>2011</td>\n",
       "    </tr>\n",
       "    <tr>\n",
       "      <th>194</th>\n",
       "      <td>Bermuda</td>\n",
       "      <td>Americas</td>\n",
       "      <td>Northern America</td>\n",
       "      <td>0</td>\n",
       "      <td>0</td>\n",
       "      <td>2019</td>\n",
       "    </tr>\n",
       "  </tbody>\n",
       "</table>\n",
       "<p>195 rows × 6 columns</p>\n",
       "</div>"
      ],
      "text/plain": [
       "            Location    Region         Subregion  Rate  Count  Year\n",
       "0             Brazil  Americas     South America    22  47722  2020\n",
       "1            Nigeria    Africa    Western Africa    22  44200  2019\n",
       "2              India      Asia     Southern Asia     3  40651  2020\n",
       "3             Mexico  Americas   Central America    28  36579  2020\n",
       "4      United States  Americas  Northern America     6  21570  2020\n",
       "..               ...       ...               ...   ...    ...   ...\n",
       "190         Holy See    Europe   Southern Europe     0      0  2015\n",
       "191  Channel Islands    Europe   Northern Europe     0      0  2010\n",
       "192     Saint Helena    Africa    Western Africa     0      0  2009\n",
       "193       San Marino    Europe   Southern Europe     0      0  2011\n",
       "194          Bermuda  Americas  Northern America     0      0  2019\n",
       "\n",
       "[195 rows x 6 columns]"
      ]
     },
     "execution_count": 15,
     "metadata": {},
     "output_type": "execute_result"
    }
   ],
   "source": [
    "newdf_1.reset_index(drop=True)"
   ]
  },
  {
   "cell_type": "markdown",
   "metadata": {},
   "source": [
    "### Top 10 Location with their value count"
   ]
  },
  {
   "cell_type": "code",
   "execution_count": 16,
   "metadata": {},
   "outputs": [],
   "source": [
    "newdf_2=df[['Location','Count']].sort_values('Count',ascending=False).head(10)"
   ]
  },
  {
   "cell_type": "code",
   "execution_count": 17,
   "metadata": {},
   "outputs": [
    {
     "data": {
      "text/html": [
       "<div>\n",
       "<style scoped>\n",
       "    .dataframe tbody tr th:only-of-type {\n",
       "        vertical-align: middle;\n",
       "    }\n",
       "\n",
       "    .dataframe tbody tr th {\n",
       "        vertical-align: top;\n",
       "    }\n",
       "\n",
       "    .dataframe thead th {\n",
       "        text-align: right;\n",
       "    }\n",
       "</style>\n",
       "<table border=\"1\" class=\"dataframe\">\n",
       "  <thead>\n",
       "    <tr style=\"text-align: right;\">\n",
       "      <th></th>\n",
       "      <th>Location</th>\n",
       "      <th>Count</th>\n",
       "    </tr>\n",
       "  </thead>\n",
       "  <tbody>\n",
       "    <tr>\n",
       "      <th>26</th>\n",
       "      <td>Brazil</td>\n",
       "      <td>47722</td>\n",
       "    </tr>\n",
       "    <tr>\n",
       "      <th>125</th>\n",
       "      <td>Nigeria</td>\n",
       "      <td>44200</td>\n",
       "    </tr>\n",
       "    <tr>\n",
       "      <th>78</th>\n",
       "      <td>India</td>\n",
       "      <td>40651</td>\n",
       "    </tr>\n",
       "    <tr>\n",
       "      <th>111</th>\n",
       "      <td>Mexico</td>\n",
       "      <td>36579</td>\n",
       "    </tr>\n",
       "    <tr>\n",
       "      <th>186</th>\n",
       "      <td>United States</td>\n",
       "      <td>21570</td>\n",
       "    </tr>\n",
       "    <tr>\n",
       "      <th>162</th>\n",
       "      <td>South Africa</td>\n",
       "      <td>19846</td>\n",
       "    </tr>\n",
       "    <tr>\n",
       "      <th>118</th>\n",
       "      <td>Myanmar</td>\n",
       "      <td>15299</td>\n",
       "    </tr>\n",
       "    <tr>\n",
       "      <th>41</th>\n",
       "      <td>Colombia</td>\n",
       "      <td>11520</td>\n",
       "    </tr>\n",
       "    <tr>\n",
       "      <th>143</th>\n",
       "      <td>Russia</td>\n",
       "      <td>10697</td>\n",
       "    </tr>\n",
       "    <tr>\n",
       "      <th>190</th>\n",
       "      <td>Venezuela</td>\n",
       "      <td>10598</td>\n",
       "    </tr>\n",
       "  </tbody>\n",
       "</table>\n",
       "</div>"
      ],
      "text/plain": [
       "          Location  Count\n",
       "26          Brazil  47722\n",
       "125        Nigeria  44200\n",
       "78           India  40651\n",
       "111         Mexico  36579\n",
       "186  United States  21570\n",
       "162   South Africa  19846\n",
       "118        Myanmar  15299\n",
       "41        Colombia  11520\n",
       "143         Russia  10697\n",
       "190      Venezuela  10598"
      ]
     },
     "execution_count": 17,
     "metadata": {},
     "output_type": "execute_result"
    }
   ],
   "source": [
    "newdf_2"
   ]
  },
  {
   "cell_type": "code",
   "execution_count": 18,
   "metadata": {},
   "outputs": [
    {
     "data": {
      "image/png": "[encoded data removed]",
      "text/plain": [
       "<Figure size 1400x600 with 1 Axes>"
      ]
     },
     "metadata": {},
     "output_type": "display_data"
    }
   ],
   "source": [
    "plt.figure(figsize=(14,6))\n",
    "barplot=sns.barplot(x=\"Location\",y=\"Count\",data=newdf_2)\n",
    "plt.show()"
   ]
  },
  {
   "cell_type": "markdown",
   "metadata": {},
   "source": [
    "### Region with value count"
   ]
  },
  {
   "cell_type": "code",
   "execution_count": 19,
   "metadata": {},
   "outputs": [],
   "source": [
    "newdf_3=df.groupby('Region')['Count'].sum().reset_index()"
   ]
  },
  {
   "cell_type": "code",
   "execution_count": 20,
   "metadata": {},
   "outputs": [
    {
     "data": {
      "text/html": [
       "<div>\n",
       "<style scoped>\n",
       "    .dataframe tbody tr th:only-of-type {\n",
       "        vertical-align: middle;\n",
       "    }\n",
       "\n",
       "    .dataframe tbody tr th {\n",
       "        vertical-align: top;\n",
       "    }\n",
       "\n",
       "    .dataframe thead th {\n",
       "        text-align: right;\n",
       "    }\n",
       "</style>\n",
       "<table border=\"1\" class=\"dataframe\">\n",
       "  <thead>\n",
       "    <tr style=\"text-align: right;\">\n",
       "      <th></th>\n",
       "      <th>Region</th>\n",
       "      <th>Count</th>\n",
       "    </tr>\n",
       "  </thead>\n",
       "  <tbody>\n",
       "    <tr>\n",
       "      <th>0</th>\n",
       "      <td>Africa</td>\n",
       "      <td>99481</td>\n",
       "    </tr>\n",
       "    <tr>\n",
       "      <th>1</th>\n",
       "      <td>Americas</td>\n",
       "      <td>153597</td>\n",
       "    </tr>\n",
       "    <tr>\n",
       "      <th>2</th>\n",
       "      <td>Asia</td>\n",
       "      <td>105552</td>\n",
       "    </tr>\n",
       "    <tr>\n",
       "      <th>3</th>\n",
       "      <td>Europe</td>\n",
       "      <td>19869</td>\n",
       "    </tr>\n",
       "    <tr>\n",
       "      <th>4</th>\n",
       "      <td>Oceania</td>\n",
       "      <td>347</td>\n",
       "    </tr>\n",
       "  </tbody>\n",
       "</table>\n",
       "</div>"
      ],
      "text/plain": [
       "     Region   Count\n",
       "0    Africa   99481\n",
       "1  Americas  153597\n",
       "2      Asia  105552\n",
       "3    Europe   19869\n",
       "4   Oceania     347"
      ]
     },
     "execution_count": 20,
     "metadata": {},
     "output_type": "execute_result"
    }
   ],
   "source": [
    "newdf_3"
   ]
  },
  {
   "cell_type": "code",
   "execution_count": 21,
   "metadata": {},
   "outputs": [
    {
     "data": {
      "image/png": "[encoded data removed]",
      "text/plain": [
       "<Figure size 1400x600 with 1 Axes>"
      ]
     },
     "metadata": {},
     "output_type": "display_data"
    }
   ],
   "source": [
    "plt.figure(figsize=(14,6))\n",
    "barplot=sns.barplot(x=\"Region\",y=\"Count\",data=newdf_3)\n",
    "plt.show()"
   ]
  },
  {
   "cell_type": "markdown",
   "metadata": {},
   "source": [
    "### Subregion with value count "
   ]
  },
  {
   "cell_type": "code",
   "execution_count": 22,
   "metadata": {},
   "outputs": [],
   "source": [
    "newdf_4=df.groupby('Subregion')['Count'].sum().reset_index().head(10)"
   ]
  },
  {
   "cell_type": "code",
   "execution_count": 23,
   "metadata": {},
   "outputs": [
    {
     "data": {
      "text/html": [
       "<div>\n",
       "<style scoped>\n",
       "    .dataframe tbody tr th:only-of-type {\n",
       "        vertical-align: middle;\n",
       "    }\n",
       "\n",
       "    .dataframe tbody tr th {\n",
       "        vertical-align: top;\n",
       "    }\n",
       "\n",
       "    .dataframe thead th {\n",
       "        text-align: right;\n",
       "    }\n",
       "</style>\n",
       "<table border=\"1\" class=\"dataframe\">\n",
       "  <thead>\n",
       "    <tr style=\"text-align: right;\">\n",
       "      <th></th>\n",
       "      <th>Subregion</th>\n",
       "      <th>Count</th>\n",
       "    </tr>\n",
       "  </thead>\n",
       "  <tbody>\n",
       "    <tr>\n",
       "      <th>0</th>\n",
       "      <td>Aus,NZ</td>\n",
       "      <td>347</td>\n",
       "    </tr>\n",
       "    <tr>\n",
       "      <th>1</th>\n",
       "      <td>Caribbean</td>\n",
       "      <td>5037</td>\n",
       "    </tr>\n",
       "    <tr>\n",
       "      <th>2</th>\n",
       "      <td>Central America</td>\n",
       "      <td>47371</td>\n",
       "    </tr>\n",
       "    <tr>\n",
       "      <th>3</th>\n",
       "      <td>Central Asia</td>\n",
       "      <td>1406</td>\n",
       "    </tr>\n",
       "    <tr>\n",
       "      <th>4</th>\n",
       "      <td>Eastern Africa</td>\n",
       "      <td>23669</td>\n",
       "    </tr>\n",
       "    <tr>\n",
       "      <th>5</th>\n",
       "      <td>Eastern Asia</td>\n",
       "      <td>8563</td>\n",
       "    </tr>\n",
       "    <tr>\n",
       "      <th>6</th>\n",
       "      <td>Eastern Europe</td>\n",
       "      <td>14604</td>\n",
       "    </tr>\n",
       "    <tr>\n",
       "      <th>7</th>\n",
       "      <td>Middle Africa</td>\n",
       "      <td>2477</td>\n",
       "    </tr>\n",
       "    <tr>\n",
       "      <th>8</th>\n",
       "      <td>Northern Africa</td>\n",
       "      <td>5538</td>\n",
       "    </tr>\n",
       "    <tr>\n",
       "      <th>9</th>\n",
       "      <td>Northern America</td>\n",
       "      <td>22317</td>\n",
       "    </tr>\n",
       "  </tbody>\n",
       "</table>\n",
       "</div>"
      ],
      "text/plain": [
       "          Subregion  Count\n",
       "0            Aus,NZ    347\n",
       "1         Caribbean   5037\n",
       "2   Central America  47371\n",
       "3      Central Asia   1406\n",
       "4    Eastern Africa  23669\n",
       "5      Eastern Asia   8563\n",
       "6    Eastern Europe  14604\n",
       "7     Middle Africa   2477\n",
       "8   Northern Africa   5538\n",
       "9  Northern America  22317"
      ]
     },
     "execution_count": 23,
     "metadata": {},
     "output_type": "execute_result"
    }
   ],
   "source": [
    "newdf_4"
   ]
  },
  {
   "cell_type": "code",
   "execution_count": 24,
   "metadata": {},
   "outputs": [
    {
     "data": {
      "image/png": "[encoded data removed]",
      "text/plain": [
       "<Figure size 1800x800 with 1 Axes>"
      ]
     },
     "metadata": {},
     "output_type": "display_data"
    }
   ],
   "source": [
    "plt.figure(figsize=(18,8))\n",
    "barplot=sns.barplot(x=\"Subregion\",y=\"Count\",data=newdf_4)\n",
    "plt.show()"
   ]
  },
  {
   "cell_type": "code",
   "execution_count": 26,
   "metadata": {},
   "outputs": [
    {
     "data": {
      "text/plain": [
       "0          Asia\n",
       "1        Europe\n",
       "2        Africa\n",
       "3        Europe\n",
       "4        Africa\n",
       "         ...   \n",
       "190    Americas\n",
       "191        Asia\n",
       "192        Asia\n",
       "193      Africa\n",
       "194      Africa\n",
       "Name: Region, Length: 195, dtype: object"
      ]
     },
     "execution_count": 26,
     "metadata": {},
     "output_type": "execute_result"
    }
   ],
   "source": [
    "filtered_df = df['Region']\n",
    "filtered_df"
   ]
  },
  {
   "cell_type": "markdown",
   "metadata": {},
   "source": [
    "### Year should be greater than 2015"
   ]
  },
  {
   "cell_type": "code",
   "execution_count": 28,
   "metadata": {},
   "outputs": [],
   "source": [
    "new_data=df[df['Year']>2015]"
   ]
  },
  {
   "cell_type": "code",
   "execution_count": 29,
   "metadata": {},
   "outputs": [
    {
     "data": {
      "text/html": [
       "<div>\n",
       "<style scoped>\n",
       "    .dataframe tbody tr th:only-of-type {\n",
       "        vertical-align: middle;\n",
       "    }\n",
       "\n",
       "    .dataframe tbody tr th {\n",
       "        vertical-align: top;\n",
       "    }\n",
       "\n",
       "    .dataframe thead th {\n",
       "        text-align: right;\n",
       "    }\n",
       "</style>\n",
       "<table border=\"1\" class=\"dataframe\">\n",
       "  <thead>\n",
       "    <tr style=\"text-align: right;\">\n",
       "      <th></th>\n",
       "      <th>Location</th>\n",
       "      <th>Region</th>\n",
       "      <th>Subregion</th>\n",
       "      <th>Rate</th>\n",
       "      <th>Count</th>\n",
       "      <th>Year</th>\n",
       "    </tr>\n",
       "  </thead>\n",
       "  <tbody>\n",
       "    <tr>\n",
       "      <th>0</th>\n",
       "      <td>Afghanistan</td>\n",
       "      <td>Asia</td>\n",
       "      <td>Southern Asia</td>\n",
       "      <td>6</td>\n",
       "      <td>2474</td>\n",
       "      <td>2018</td>\n",
       "    </tr>\n",
       "    <tr>\n",
       "      <th>1</th>\n",
       "      <td>Albania</td>\n",
       "      <td>Europe</td>\n",
       "      <td>Southern Europe</td>\n",
       "      <td>2</td>\n",
       "      <td>61</td>\n",
       "      <td>2020</td>\n",
       "    </tr>\n",
       "    <tr>\n",
       "      <th>2</th>\n",
       "      <td>Algeria</td>\n",
       "      <td>Africa</td>\n",
       "      <td>Northern Africa</td>\n",
       "      <td>1</td>\n",
       "      <td>580</td>\n",
       "      <td>2020</td>\n",
       "    </tr>\n",
       "    <tr>\n",
       "      <th>3</th>\n",
       "      <td>Andorra</td>\n",
       "      <td>Europe</td>\n",
       "      <td>Southern Europe</td>\n",
       "      <td>2</td>\n",
       "      <td>2</td>\n",
       "      <td>2020</td>\n",
       "    </tr>\n",
       "    <tr>\n",
       "      <th>4</th>\n",
       "      <td>Antigua and Barbuda</td>\n",
       "      <td>Americas</td>\n",
       "      <td>Caribbean</td>\n",
       "      <td>9</td>\n",
       "      <td>9</td>\n",
       "      <td>2020</td>\n",
       "    </tr>\n",
       "    <tr>\n",
       "      <th>...</th>\n",
       "      <td>...</td>\n",
       "      <td>...</td>\n",
       "      <td>...</td>\n",
       "      <td>...</td>\n",
       "      <td>...</td>\n",
       "      <td>...</td>\n",
       "    </tr>\n",
       "    <tr>\n",
       "      <th>142</th>\n",
       "      <td>Tanzania</td>\n",
       "      <td>Africa</td>\n",
       "      <td>Eastern Africa</td>\n",
       "      <td>6</td>\n",
       "      <td>3439</td>\n",
       "      <td>2016</td>\n",
       "    </tr>\n",
       "    <tr>\n",
       "      <th>143</th>\n",
       "      <td>United States</td>\n",
       "      <td>Americas</td>\n",
       "      <td>Northern America</td>\n",
       "      <td>6</td>\n",
       "      <td>21570</td>\n",
       "      <td>2020</td>\n",
       "    </tr>\n",
       "    <tr>\n",
       "      <th>144</th>\n",
       "      <td>Uruguay</td>\n",
       "      <td>Americas</td>\n",
       "      <td>South America</td>\n",
       "      <td>9</td>\n",
       "      <td>337</td>\n",
       "      <td>2020</td>\n",
       "    </tr>\n",
       "    <tr>\n",
       "      <th>145</th>\n",
       "      <td>Uzbekistan</td>\n",
       "      <td>Asia</td>\n",
       "      <td>Central Asia</td>\n",
       "      <td>1</td>\n",
       "      <td>396</td>\n",
       "      <td>2019</td>\n",
       "    </tr>\n",
       "    <tr>\n",
       "      <th>146</th>\n",
       "      <td>Venezuela</td>\n",
       "      <td>Americas</td>\n",
       "      <td>South America</td>\n",
       "      <td>36</td>\n",
       "      <td>10598</td>\n",
       "      <td>2018</td>\n",
       "    </tr>\n",
       "  </tbody>\n",
       "</table>\n",
       "<p>147 rows × 6 columns</p>\n",
       "</div>"
      ],
      "text/plain": [
       "                Location    Region         Subregion  Rate  Count  Year\n",
       "0            Afghanistan      Asia     Southern Asia     6   2474  2018\n",
       "1                Albania    Europe   Southern Europe     2     61  2020\n",
       "2                Algeria    Africa   Northern Africa     1    580  2020\n",
       "3                Andorra    Europe   Southern Europe     2      2  2020\n",
       "4    Antigua and Barbuda  Americas         Caribbean     9      9  2020\n",
       "..                   ...       ...               ...   ...    ...   ...\n",
       "142             Tanzania    Africa    Eastern Africa     6   3439  2016\n",
       "143        United States  Americas  Northern America     6  21570  2020\n",
       "144              Uruguay  Americas     South America     9    337  2020\n",
       "145           Uzbekistan      Asia      Central Asia     1    396  2019\n",
       "146            Venezuela  Americas     South America    36  10598  2018\n",
       "\n",
       "[147 rows x 6 columns]"
      ]
     },
     "execution_count": 29,
     "metadata": {},
     "output_type": "execute_result"
    }
   ],
   "source": [
    "new_data.reset_index(drop=True)"
   ]
  },
  {
   "cell_type": "markdown",
   "metadata": {},
   "source": [
    "### Count by Region and Year"
   ]
  },
  {
   "cell_type": "code",
   "execution_count": 30,
   "metadata": {},
   "outputs": [],
   "source": [
    "grouped_data = new_data.groupby(['Region', 'Year', 'Subregion']).sum().reset_index()"
   ]
  },
  {
   "cell_type": "code",
   "execution_count": 31,
   "metadata": {},
   "outputs": [
    {
     "data": {
      "image/png": "[encoded data removed]",
      "text/plain": [
       "<Figure size 1800x800 with 1 Axes>"
      ]
     },
     "metadata": {},
     "output_type": "display_data"
    }
   ],
   "source": [
    "plt.figure(figsize=(18,8))\n",
    "sns.barplot(x=\"Year\", y=\"Count\", hue=\"Region\", data=grouped_data,errorbar=None)\n",
    "plt.title(\"Count by Region and Year\")\n",
    "plt.xlabel(\"Year\")\n",
    "plt.ylabel(\"Count\")\n",
    "plt.legend(title=\"Region\")\n",
    "plt.xticks(rotation=15) \n",
    "plt.show()"
   ]
  },
  {
   "cell_type": "markdown",
   "metadata": {},
   "source": [
    "### Rate by Region and Year"
   ]
  },
  {
   "cell_type": "code",
   "execution_count": 32,
   "metadata": {},
   "outputs": [
    {
     "data": {
      "text/html": [
       "<div>\n",
       "<style scoped>\n",
       "    .dataframe tbody tr th:only-of-type {\n",
       "        vertical-align: middle;\n",
       "    }\n",
       "\n",
       "    .dataframe tbody tr th {\n",
       "        vertical-align: top;\n",
       "    }\n",
       "\n",
       "    .dataframe thead th {\n",
       "        text-align: right;\n",
       "    }\n",
       "</style>\n",
       "<table border=\"1\" class=\"dataframe\">\n",
       "  <thead>\n",
       "    <tr style=\"text-align: right;\">\n",
       "      <th></th>\n",
       "      <th>Region</th>\n",
       "      <th>Year</th>\n",
       "      <th>Rate</th>\n",
       "    </tr>\n",
       "  </thead>\n",
       "  <tbody>\n",
       "    <tr>\n",
       "      <th>0</th>\n",
       "      <td>Africa</td>\n",
       "      <td>2008</td>\n",
       "      <td>5</td>\n",
       "    </tr>\n",
       "    <tr>\n",
       "      <th>1</th>\n",
       "      <td>Africa</td>\n",
       "      <td>2009</td>\n",
       "      <td>6</td>\n",
       "    </tr>\n",
       "    <tr>\n",
       "      <th>2</th>\n",
       "      <td>Africa</td>\n",
       "      <td>2010</td>\n",
       "      <td>15</td>\n",
       "    </tr>\n",
       "    <tr>\n",
       "      <th>3</th>\n",
       "      <td>Africa</td>\n",
       "      <td>2011</td>\n",
       "      <td>6</td>\n",
       "    </tr>\n",
       "    <tr>\n",
       "      <th>4</th>\n",
       "      <td>Africa</td>\n",
       "      <td>2012</td>\n",
       "      <td>43</td>\n",
       "    </tr>\n",
       "    <tr>\n",
       "      <th>5</th>\n",
       "      <td>Africa</td>\n",
       "      <td>2015</td>\n",
       "      <td>51</td>\n",
       "    </tr>\n",
       "    <tr>\n",
       "      <th>6</th>\n",
       "      <td>Africa</td>\n",
       "      <td>2016</td>\n",
       "      <td>32</td>\n",
       "    </tr>\n",
       "    <tr>\n",
       "      <th>7</th>\n",
       "      <td>Africa</td>\n",
       "      <td>2017</td>\n",
       "      <td>17</td>\n",
       "    </tr>\n",
       "    <tr>\n",
       "      <th>8</th>\n",
       "      <td>Africa</td>\n",
       "      <td>2019</td>\n",
       "      <td>32</td>\n",
       "    </tr>\n",
       "    <tr>\n",
       "      <th>9</th>\n",
       "      <td>Africa</td>\n",
       "      <td>2020</td>\n",
       "      <td>71</td>\n",
       "    </tr>\n",
       "    <tr>\n",
       "      <th>10</th>\n",
       "      <td>Americas</td>\n",
       "      <td>2006</td>\n",
       "      <td>8</td>\n",
       "    </tr>\n",
       "    <tr>\n",
       "      <th>11</th>\n",
       "      <td>Americas</td>\n",
       "      <td>2007</td>\n",
       "      <td>19</td>\n",
       "    </tr>\n",
       "    <tr>\n",
       "      <th>12</th>\n",
       "      <td>Americas</td>\n",
       "      <td>2009</td>\n",
       "      <td>30</td>\n",
       "    </tr>\n",
       "    <tr>\n",
       "      <th>13</th>\n",
       "      <td>Americas</td>\n",
       "      <td>2012</td>\n",
       "      <td>69</td>\n",
       "    </tr>\n",
       "    <tr>\n",
       "      <th>14</th>\n",
       "      <td>Americas</td>\n",
       "      <td>2014</td>\n",
       "      <td>42</td>\n",
       "    </tr>\n",
       "    <tr>\n",
       "      <th>15</th>\n",
       "      <td>Americas</td>\n",
       "      <td>2016</td>\n",
       "      <td>42</td>\n",
       "    </tr>\n",
       "    <tr>\n",
       "      <th>16</th>\n",
       "      <td>Americas</td>\n",
       "      <td>2018</td>\n",
       "      <td>49</td>\n",
       "    </tr>\n",
       "    <tr>\n",
       "      <th>17</th>\n",
       "      <td>Americas</td>\n",
       "      <td>2019</td>\n",
       "      <td>106</td>\n",
       "    </tr>\n",
       "    <tr>\n",
       "      <th>18</th>\n",
       "      <td>Americas</td>\n",
       "      <td>2020</td>\n",
       "      <td>429</td>\n",
       "    </tr>\n",
       "    <tr>\n",
       "      <th>19</th>\n",
       "      <td>Asia</td>\n",
       "      <td>2006</td>\n",
       "      <td>4</td>\n",
       "    </tr>\n",
       "    <tr>\n",
       "      <th>20</th>\n",
       "      <td>Asia</td>\n",
       "      <td>2011</td>\n",
       "      <td>2</td>\n",
       "    </tr>\n",
       "    <tr>\n",
       "      <th>21</th>\n",
       "      <td>Asia</td>\n",
       "      <td>2012</td>\n",
       "      <td>1</td>\n",
       "    </tr>\n",
       "    <tr>\n",
       "      <th>22</th>\n",
       "      <td>Asia</td>\n",
       "      <td>2013</td>\n",
       "      <td>20</td>\n",
       "    </tr>\n",
       "    <tr>\n",
       "      <th>23</th>\n",
       "      <td>Asia</td>\n",
       "      <td>2014</td>\n",
       "      <td>10</td>\n",
       "    </tr>\n",
       "    <tr>\n",
       "      <th>24</th>\n",
       "      <td>Asia</td>\n",
       "      <td>2015</td>\n",
       "      <td>4</td>\n",
       "    </tr>\n",
       "    <tr>\n",
       "      <th>25</th>\n",
       "      <td>Asia</td>\n",
       "      <td>2016</td>\n",
       "      <td>2</td>\n",
       "    </tr>\n",
       "    <tr>\n",
       "      <th>26</th>\n",
       "      <td>Asia</td>\n",
       "      <td>2017</td>\n",
       "      <td>2</td>\n",
       "    </tr>\n",
       "    <tr>\n",
       "      <th>27</th>\n",
       "      <td>Asia</td>\n",
       "      <td>2018</td>\n",
       "      <td>10</td>\n",
       "    </tr>\n",
       "    <tr>\n",
       "      <th>28</th>\n",
       "      <td>Asia</td>\n",
       "      <td>2019</td>\n",
       "      <td>10</td>\n",
       "    </tr>\n",
       "    <tr>\n",
       "      <th>29</th>\n",
       "      <td>Asia</td>\n",
       "      <td>2020</td>\n",
       "      <td>27</td>\n",
       "    </tr>\n",
       "    <tr>\n",
       "      <th>30</th>\n",
       "      <td>Asia</td>\n",
       "      <td>2021</td>\n",
       "      <td>28</td>\n",
       "    </tr>\n",
       "    <tr>\n",
       "      <th>31</th>\n",
       "      <td>Europe</td>\n",
       "      <td>2010</td>\n",
       "      <td>3</td>\n",
       "    </tr>\n",
       "    <tr>\n",
       "      <th>32</th>\n",
       "      <td>Europe</td>\n",
       "      <td>2011</td>\n",
       "      <td>0</td>\n",
       "    </tr>\n",
       "    <tr>\n",
       "      <th>33</th>\n",
       "      <td>Europe</td>\n",
       "      <td>2015</td>\n",
       "      <td>0</td>\n",
       "    </tr>\n",
       "    <tr>\n",
       "      <th>34</th>\n",
       "      <td>Europe</td>\n",
       "      <td>2016</td>\n",
       "      <td>0</td>\n",
       "    </tr>\n",
       "    <tr>\n",
       "      <th>35</th>\n",
       "      <td>Europe</td>\n",
       "      <td>2017</td>\n",
       "      <td>8</td>\n",
       "    </tr>\n",
       "    <tr>\n",
       "      <th>36</th>\n",
       "      <td>Europe</td>\n",
       "      <td>2018</td>\n",
       "      <td>5</td>\n",
       "    </tr>\n",
       "    <tr>\n",
       "      <th>37</th>\n",
       "      <td>Europe</td>\n",
       "      <td>2019</td>\n",
       "      <td>3</td>\n",
       "    </tr>\n",
       "    <tr>\n",
       "      <th>38</th>\n",
       "      <td>Europe</td>\n",
       "      <td>2020</td>\n",
       "      <td>37</td>\n",
       "    </tr>\n",
       "    <tr>\n",
       "      <th>39</th>\n",
       "      <td>Oceania</td>\n",
       "      <td>2019</td>\n",
       "      <td>2</td>\n",
       "    </tr>\n",
       "    <tr>\n",
       "      <th>40</th>\n",
       "      <td>Oceania</td>\n",
       "      <td>2020</td>\n",
       "      <td>0</td>\n",
       "    </tr>\n",
       "  </tbody>\n",
       "</table>\n",
       "</div>"
      ],
      "text/plain": [
       "      Region  Year  Rate\n",
       "0     Africa  2008     5\n",
       "1     Africa  2009     6\n",
       "2     Africa  2010    15\n",
       "3     Africa  2011     6\n",
       "4     Africa  2012    43\n",
       "5     Africa  2015    51\n",
       "6     Africa  2016    32\n",
       "7     Africa  2017    17\n",
       "8     Africa  2019    32\n",
       "9     Africa  2020    71\n",
       "10  Americas  2006     8\n",
       "11  Americas  2007    19\n",
       "12  Americas  2009    30\n",
       "13  Americas  2012    69\n",
       "14  Americas  2014    42\n",
       "15  Americas  2016    42\n",
       "16  Americas  2018    49\n",
       "17  Americas  2019   106\n",
       "18  Americas  2020   429\n",
       "19      Asia  2006     4\n",
       "20      Asia  2011     2\n",
       "21      Asia  2012     1\n",
       "22      Asia  2013    20\n",
       "23      Asia  2014    10\n",
       "24      Asia  2015     4\n",
       "25      Asia  2016     2\n",
       "26      Asia  2017     2\n",
       "27      Asia  2018    10\n",
       "28      Asia  2019    10\n",
       "29      Asia  2020    27\n",
       "30      Asia  2021    28\n",
       "31    Europe  2010     3\n",
       "32    Europe  2011     0\n",
       "33    Europe  2015     0\n",
       "34    Europe  2016     0\n",
       "35    Europe  2017     8\n",
       "36    Europe  2018     5\n",
       "37    Europe  2019     3\n",
       "38    Europe  2020    37\n",
       "39   Oceania  2019     2\n",
       "40   Oceania  2020     0"
      ]
     },
     "execution_count": 32,
     "metadata": {},
     "output_type": "execute_result"
    }
   ],
   "source": [
    "newdf_5=df.groupby(['Region', 'Year'])['Rate'].sum().reset_index()\n",
    "newdf_5"
   ]
  },
  {
   "cell_type": "code",
   "execution_count": 33,
   "metadata": {},
   "outputs": [
    {
     "data": {
      "image/png": "[encoded data removed]",
      "text/plain": [
       "<Figure size 1800x800 with 1 Axes>"
      ]
     },
     "metadata": {},
     "output_type": "display_data"
    }
   ],
   "source": [
    "plt.figure(figsize=(18,8))\n",
    "sns.barplot(x=\"Region\", y=\"Rate\", hue=\"Year\",palette='dark:r', data=newdf_5, errorbar=None,edgecolor='black')\n",
    "plt.title(\"Rate by Region and Year\")\n",
    "plt.xlabel(\"Region\")\n",
    "plt.ylabel(\"Sum of Rate\")\n",
    "plt.xticks(rotation=15) \n",
    "plt.show()"
   ]
  },
  {
   "cell_type": "markdown",
   "metadata": {},
   "source": [
    "### Tree Map "
   ]
  },
  {
   "cell_type": "code",
   "execution_count": 34,
   "metadata": {},
   "outputs": [],
   "source": [
    "newdf_6=df.groupby(['Region', 'Year','Location','Subregion'])['Count'].sum().reset_index()"
   ]
  },
  {
   "cell_type": "code",
   "execution_count": 35,
   "metadata": {},
   "outputs": [
    {
     "data": {
      "text/html": [
       "<div>\n",
       "<style scoped>\n",
       "    .dataframe tbody tr th:only-of-type {\n",
       "        vertical-align: middle;\n",
       "    }\n",
       "\n",
       "    .dataframe tbody tr th {\n",
       "        vertical-align: top;\n",
       "    }\n",
       "\n",
       "    .dataframe thead th {\n",
       "        text-align: right;\n",
       "    }\n",
       "</style>\n",
       "<table border=\"1\" class=\"dataframe\">\n",
       "  <thead>\n",
       "    <tr style=\"text-align: right;\">\n",
       "      <th></th>\n",
       "      <th>Location</th>\n",
       "      <th>Region</th>\n",
       "      <th>Subregion</th>\n",
       "      <th>Rate</th>\n",
       "      <th>Count</th>\n",
       "      <th>Year</th>\n",
       "    </tr>\n",
       "  </thead>\n",
       "  <tbody>\n",
       "    <tr>\n",
       "      <th>0</th>\n",
       "      <td>Afghanistan</td>\n",
       "      <td>Asia</td>\n",
       "      <td>Southern Asia</td>\n",
       "      <td>6</td>\n",
       "      <td>2474</td>\n",
       "      <td>2018</td>\n",
       "    </tr>\n",
       "    <tr>\n",
       "      <th>1</th>\n",
       "      <td>Albania</td>\n",
       "      <td>Europe</td>\n",
       "      <td>Southern Europe</td>\n",
       "      <td>2</td>\n",
       "      <td>61</td>\n",
       "      <td>2020</td>\n",
       "    </tr>\n",
       "    <tr>\n",
       "      <th>2</th>\n",
       "      <td>Algeria</td>\n",
       "      <td>Africa</td>\n",
       "      <td>Northern Africa</td>\n",
       "      <td>1</td>\n",
       "      <td>580</td>\n",
       "      <td>2020</td>\n",
       "    </tr>\n",
       "    <tr>\n",
       "      <th>3</th>\n",
       "      <td>Andorra</td>\n",
       "      <td>Europe</td>\n",
       "      <td>Southern Europe</td>\n",
       "      <td>2</td>\n",
       "      <td>2</td>\n",
       "      <td>2020</td>\n",
       "    </tr>\n",
       "    <tr>\n",
       "      <th>4</th>\n",
       "      <td>Angola</td>\n",
       "      <td>Africa</td>\n",
       "      <td>Middle Africa</td>\n",
       "      <td>4</td>\n",
       "      <td>1217</td>\n",
       "      <td>2012</td>\n",
       "    </tr>\n",
       "    <tr>\n",
       "      <th>...</th>\n",
       "      <td>...</td>\n",
       "      <td>...</td>\n",
       "      <td>...</td>\n",
       "      <td>...</td>\n",
       "      <td>...</td>\n",
       "      <td>...</td>\n",
       "    </tr>\n",
       "    <tr>\n",
       "      <th>190</th>\n",
       "      <td>Venezuela</td>\n",
       "      <td>Americas</td>\n",
       "      <td>South America</td>\n",
       "      <td>36</td>\n",
       "      <td>10598</td>\n",
       "      <td>2018</td>\n",
       "    </tr>\n",
       "    <tr>\n",
       "      <th>191</th>\n",
       "      <td>Vietnam</td>\n",
       "      <td>Asia</td>\n",
       "      <td>South-Eastern Asia</td>\n",
       "      <td>1</td>\n",
       "      <td>1358</td>\n",
       "      <td>2011</td>\n",
       "    </tr>\n",
       "    <tr>\n",
       "      <th>192</th>\n",
       "      <td>Yemen</td>\n",
       "      <td>Asia</td>\n",
       "      <td>Western Asia</td>\n",
       "      <td>6</td>\n",
       "      <td>1703</td>\n",
       "      <td>2013</td>\n",
       "    </tr>\n",
       "    <tr>\n",
       "      <th>193</th>\n",
       "      <td>Zambia</td>\n",
       "      <td>Africa</td>\n",
       "      <td>Eastern Africa</td>\n",
       "      <td>5</td>\n",
       "      <td>853</td>\n",
       "      <td>2015</td>\n",
       "    </tr>\n",
       "    <tr>\n",
       "      <th>194</th>\n",
       "      <td>Zimbabwe</td>\n",
       "      <td>Africa</td>\n",
       "      <td>Eastern Africa</td>\n",
       "      <td>7</td>\n",
       "      <td>981</td>\n",
       "      <td>2012</td>\n",
       "    </tr>\n",
       "  </tbody>\n",
       "</table>\n",
       "<p>188 rows × 6 columns</p>\n",
       "</div>"
      ],
      "text/plain": [
       "        Location    Region           Subregion  Rate  Count  Year\n",
       "0    Afghanistan      Asia       Southern Asia     6   2474  2018\n",
       "1        Albania    Europe     Southern Europe     2     61  2020\n",
       "2        Algeria    Africa     Northern Africa     1    580  2020\n",
       "3        Andorra    Europe     Southern Europe     2      2  2020\n",
       "4         Angola    Africa       Middle Africa     4   1217  2012\n",
       "..           ...       ...                 ...   ...    ...   ...\n",
       "190    Venezuela  Americas       South America    36  10598  2018\n",
       "191      Vietnam      Asia  South-Eastern Asia     1   1358  2011\n",
       "192        Yemen      Asia        Western Asia     6   1703  2013\n",
       "193       Zambia    Africa      Eastern Africa     5    853  2015\n",
       "194     Zimbabwe    Africa      Eastern Africa     7    981  2012\n",
       "\n",
       "[188 rows x 6 columns]"
      ]
     },
     "execution_count": 35,
     "metadata": {},
     "output_type": "execute_result"
    }
   ],
   "source": [
    "newdf_6=df[df['Count']>0]\n",
    "newdf_6"
   ]
  },
  {
   "cell_type": "code",
   "execution_count": 39,
   "metadata": {},
   "outputs": [
    {
     "data": {
      "application/vnd.plotly.v1+json": {
       "config": {
        "plotlyServerURL": "https://plot.ly"
       },
       "data": [
        {
         "branchvalues": "total",
         "customdata": [
          [
           2
          ],
          [
           203
          ],
          [
           26
          ],
          [
           1702
          ],
          [
           30
          ],
          [
           11
          ],
          [
           12
          ],
          [
           15
          ],
          [
           1
          ],
          [
           303
          ],
          [
           1
          ],
          [
           268
          ],
          [
           849
          ],
          [
           6
          ],
          [
           1358
          ],
          [
           1217
          ],
          [
           2207
          ],
          [
           8153
          ],
          [
           61
          ],
          [
           135
          ],
          [
           279
          ],
          [
           1
          ],
          [
           788
          ],
          [
           1504
          ],
          [
           52
          ],
          [
           981
          ],
          [
           2
          ],
          [
           3339
          ],
          [
           111
          ],
          [
           627
          ],
          [
           1703
          ],
          [
           4
          ],
          [
           2
          ],
          [
           5
          ],
          [
           3029
          ],
          [
           2
          ],
          [
           49
          ],
          [
           897
          ],
          [
           293
          ],
          [
           39
          ],
          [
           124
          ],
          [
           192
          ],
          [
           853
          ],
          [
           635
          ],
          [
           913
          ],
          [
           572
          ],
          [
           3
          ],
          [
           23
          ],
          [
           627
          ],
          [
           10
          ],
          [
           3439
          ],
          [
           193
          ],
          [
           126
          ],
          [
           240
          ],
          [
           341
          ],
          [
           726
          ],
          [
           130
          ],
          [
           609
          ],
          [
           21
          ],
          [
           1787
          ],
          [
           2751
          ],
          [
           2474
          ],
          [
           3830
          ],
          [
           7525
          ],
          [
           743
          ],
          [
           1150
          ],
          [
           1795
          ],
          [
           44
          ],
          [
           23
          ],
          [
           2452
          ],
          [
           61
          ],
          [
           149
          ],
          [
           755
          ],
          [
           10598
          ],
          [
           2
          ],
          [
           225
          ],
          [
           806
          ],
          [
           2398
          ],
          [
           77
          ],
          [
           125
          ],
          [
           3
          ],
          [
           126
          ],
          [
           515
          ],
          [
           44200
          ],
          [
           24
          ],
          [
           4764
          ],
          [
           19
          ],
          [
           285
          ],
          [
           10
          ],
          [
           742
          ],
          [
           538
          ],
          [
           64
          ],
          [
           396
          ],
          [
           61
          ],
          [
           580
          ],
          [
           2
          ],
          [
           9
          ],
          [
           2416
          ],
          [
           52
          ],
          [
           221
          ],
          [
           65
          ],
          [
           230
          ],
          [
           73
          ],
          [
           41
          ],
          [
           102
          ],
          [
           19
          ],
          [
           43
          ],
          [
           47722
          ],
          [
           69
          ],
          [
           743
          ],
          [
           36
          ],
          [
           926
          ],
          [
           11520
          ],
          [
           570
          ],
          [
           39
          ],
          [
           15
          ],
          [
           77
          ],
          [
           55
          ],
          [
           15
          ],
          [
           961
          ],
          [
           1372
          ],
          [
           42
          ],
          [
           91
          ],
          [
           879
          ],
          [
           782
          ],
          [
           78
          ],
          [
           14
          ],
          [
           3129
          ],
          [
           157
          ],
          [
           3598
          ],
          [
           22
          ],
          [
           80
          ],
          [
           5
          ],
          [
           40651
          ],
          [
           34
          ],
          [
           285
          ],
          [
           1323
          ],
          [
           318
          ],
          [
           99
          ],
          [
           606
          ],
          [
           2151
          ],
          [
           114
          ],
          [
           49
          ],
          [
           128
          ],
          [
           1
          ],
          [
           101
          ],
          [
           1
          ],
          [
           2
          ],
          [
           7
          ],
          [
           35
          ],
          [
           36579
          ],
          [
           93
          ],
          [
           196
          ],
          [
           18
          ],
          [
           487
          ],
          [
           303
          ],
          [
           107
          ],
          [
           31
          ],
          [
           14
          ],
          [
           8490
          ],
          [
           48
          ],
          [
           480
          ],
          [
           481
          ],
          [
           268
          ],
          [
           93
          ],
          [
           529
          ],
          [
           12
          ],
          [
           281
          ],
          [
           10697
          ],
          [
           10
          ],
          [
           52
          ],
          [
           89
          ],
          [
           10
          ],
          [
           63
          ],
          [
           11
          ],
          [
           19846
          ],
          [
           308
          ],
          [
           298
          ],
          [
           55
          ],
          [
           124
          ],
          [
           47
          ],
          [
           87
          ],
          [
           562
          ],
          [
           2095
          ],
          [
           4460
          ],
          [
           21570
          ],
          [
           337
          ],
          [
           15299
          ],
          [
           2474
          ],
          [
           61
          ],
          [
           580
          ],
          [
           2
          ],
          [
           1217
          ],
          [
           4
          ],
          [
           9
          ],
          [
           2416
          ],
          [
           52
          ],
          [
           2
          ],
          [
           221
          ],
          [
           65
          ],
          [
           230
          ],
          [
           73
          ],
          [
           2
          ],
          [
           3830
          ],
          [
           41
          ],
          [
           225
          ],
          [
           193
          ],
          [
           102
          ],
          [
           126
          ],
          [
           19
          ],
          [
           806
          ],
          [
           43
          ],
          [
           303
          ],
          [
           47722
          ],
          [
           2
          ],
          [
           2
          ],
          [
           69
          ],
          [
           240
          ],
          [
           635
          ],
          [
           268
          ],
          [
           341
          ],
          [
           743
          ],
          [
           36
          ],
          [
           5
          ],
          [
           913
          ],
          [
           926
          ],
          [
           7525
          ],
          [
           11520
          ],
          [
           570
          ],
          [
           39
          ],
          [
           572
          ],
          [
           26
          ],
          [
           15
          ],
          [
           77
          ],
          [
           55
          ],
          [
           15
          ],
          [
           961
          ],
          [
           49
          ],
          [
           1372
          ],
          [
           2207
          ],
          [
           2398
          ],
          [
           726
          ],
          [
           42
          ],
          [
           130
          ],
          [
           8153
          ],
          [
           91
          ],
          [
           879
          ],
          [
           30
          ],
          [
           77
          ],
          [
           782
          ],
          [
           609
          ],
          [
           1
          ],
          [
           78
          ],
          [
           3
          ],
          [
           14
          ],
          [
           23
          ],
          [
           3129
          ],
          [
           21
          ],
          [
           157
          ],
          [
           743
          ],
          [
           3598
          ],
          [
           22
          ],
          [
           80
          ],
          [
           5
          ],
          [
           40651
          ],
          [
           1150
          ],
          [
           1795
          ],
          [
           3339
          ],
          [
           3029
          ],
          [
           34
          ],
          [
           125
          ],
          [
           285
          ],
          [
           1323
          ],
          [
           318
          ],
          [
           99
          ],
          [
           606
          ],
          [
           2151
          ],
          [
           44
          ],
          [
           111
          ],
          [
           61
          ],
          [
           114
          ],
          [
           49
          ],
          [
           128
          ],
          [
           897
          ],
          [
           135
          ],
          [
           1
          ],
          [
           101
          ],
          [
           1
          ],
          [
           2
          ],
          [
           279
          ],
          [
           627
          ],
          [
           3
          ],
          [
           7
          ],
          [
           11
          ],
          [
           35
          ],
          [
           12
          ],
          [
           36579
          ],
          [
           93
          ],
          [
           196
          ],
          [
           18
          ],
          [
           1
          ],
          [
           487
          ],
          [
           849
          ],
          [
           15299
          ],
          [
           303
          ],
          [
           627
          ],
          [
           107
          ],
          [
           126
          ],
          [
           515
          ],
          [
           788
          ],
          [
           44200
          ],
          [
           24
          ],
          [
           23
          ],
          [
           31
          ],
          [
           14
          ],
          [
           8490
          ],
          [
           48
          ],
          [
           480
          ],
          [
           481
          ],
          [
           2452
          ],
          [
           4764
          ],
          [
           268
          ],
          [
           93
          ],
          [
           529
          ],
          [
           12
          ],
          [
           281
          ],
          [
           10697
          ],
          [
           293
          ],
          [
           15
          ],
          [
           10
          ],
          [
           52
          ],
          [
           10
          ],
          [
           1
          ],
          [
           19
          ],
          [
           285
          ],
          [
           61
          ],
          [
           39
          ],
          [
           89
          ],
          [
           10
          ],
          [
           124
          ],
          [
           10
          ],
          [
           63
          ],
          [
           11
          ],
          [
           19846
          ],
          [
           308
          ],
          [
           1504
          ],
          [
           298
          ],
          [
           742
          ],
          [
           1702
          ],
          [
           55
          ],
          [
           124
          ],
          [
           47
          ],
          [
           149
          ],
          [
           6
          ],
          [
           192
          ],
          [
           87
          ],
          [
           3439
          ],
          [
           1787
          ],
          [
           538
          ],
          [
           562
          ],
          [
           2095
          ],
          [
           203
          ],
          [
           2
          ],
          [
           52
          ],
          [
           4460
          ],
          [
           2751
          ],
          [
           64
          ],
          [
           755
          ],
          [
           21570
          ],
          [
           337
          ],
          [
           396
          ],
          [
           10598
          ],
          [
           1358
          ],
          [
           1703
          ],
          [
           853
          ],
          [
           981
          ],
          [
           186.5043227665706
          ],
          [
           821.3676791741116
          ],
          [
           28864.512444322474
          ],
          [
           416.6614509246088
          ],
          [
           4565.377793738646
          ],
          [
           6644.561602242205
          ],
          [
           8369.277458230621
          ],
          [
           981.4190553088414
          ],
          [
           1563.21162874684
          ],
          [
           20872.740914997536
          ],
          [
           545.7992370052456
          ],
          [
           32179.095851506238
          ],
          [
           10412.522240657343
          ],
          [
           18383.9491130872
          ],
          [
           29839.83839607034
          ],
          [
           185.53064958828912
          ],
          [
           42202.64605552917
          ],
          [
           2392.402130950335
          ],
          [
           693.6380722891566
          ],
          [
           24816.3666529287
          ],
          [
           28485.742918155953
          ],
          [
           19880.704638472034
          ],
          [
           6291.78886707937
          ],
          [
           186.5043227665706
          ]
         ],
         "domain": {
          "x": [
           0,
           1
          ],
          "y": [
           0,
           1
          ]
         },
         "hovertemplate": "labels=%{label}<br>Count_sum=%{value}<br>parent=%{parent}<br>id=%{id}<br>Count=%{color}<extra></extra>",
         "ids": [
          "Americas/Caribbean/British Virgin Islands/2006",
          "Asia/Central Asia/Turkmenistan/2006",
          "Americas/Caribbean/Curaçao/2007",
          "Africa/Northern Africa/Sudan/2008",
          "Americas/South America/French Guiana/2009",
          "Americas/Caribbean/Martinique/2009",
          "Africa/Eastern Africa/Mayotte/2009",
          "Africa/Eastern Africa/Réunion/2009",
          "Americas/Northern America/Saint Pierre and Miquelon/2009",
          "Africa/Southern Africa/Botswana/2010",
          "Europe/Southern Europe/Gibraltar/2010",
          "Asia/South-Eastern Asia/Cambodia/2011",
          "Africa/Eastern Africa/Mozambique/2011",
          "Africa/Middle Africa/São Tomé and Príncipe/2011",
          "Asia/South-Eastern Asia/Vietnam/2011",
          "Africa/Middle Africa/Angola/2012",
          "Africa/Northern Africa/Egypt/2012",
          "Africa/Eastern Africa/Ethiopia/2012",
          "Asia/Western Asia/Kuwait/2012",
          "Africa/Western Africa/Liberia/2012",
          "Africa/Eastern Africa/Malawi/2012",
          "Americas/Caribbean/Montserrat/2012",
          "Africa/Western Africa/Niger/2012",
          "Africa/Eastern Africa/South Sudan/2012",
          "Americas/Caribbean/U.S. Virgin Islands/2012",
          "Africa/Eastern Africa/Zimbabwe/2012",
          "Asia/South-Eastern Asia/Brunei/2013",
          "Asia/Western Asia/Iraq/2013",
          "Asia/Western Asia/Kurdistan Region (Iraq)/2013",
          "Asia/South-Eastern Asia/Malaysia/2013",
          "Asia/Western Asia/Yemen/2013",
          "Americas/Caribbean/Anguilla/2014",
          "Americas/Caribbean/Aruba/2014",
          "Americas/Caribbean/Cayman Islands/2014",
          "Asia/Western Asia/Iraq (excluding Kurdistan)/2014",
          "Americas/Caribbean/Turks and Caicos Islands/2014",
          "Asia/South-Eastern Asia/East Timor/2015",
          "Africa/Southern Africa/Lesotho/2015",
          "Africa/Eastern Africa/Rwanda/2015",
          "Africa/Western Africa/Senegal/2015",
          "Africa/Western Africa/Sierra Leone/2015",
          "Asia/Eastern Asia/Taiwan/2015",
          "Africa/Eastern Africa/Zambia/2015",
          "Africa/Eastern Africa/Burundi/2016",
          "Africa/Middle Africa/Central African Republic/2016",
          "Americas/Caribbean/Cuba/2016",
          "Americas/Northern America/Greenland/2016",
          "Americas/Caribbean/Guadeloupe/2016",
          "Asia/Southern Asia/Nepal/2016",
          "Americas/Caribbean/Saint Martin (French part)/2016",
          "Africa/Eastern Africa/Tanzania/2016",
          "Europe/Western Europe/Belgium/2017",
          "Africa/Western Africa/Benin/2017",
          "Africa/Western Africa/Burkina Faso/2017",
          "Africa/Middle Africa/Cameroon/2017",
          "Europe/Northern Europe/England and Wales/2017",
          "Africa/Southern Africa/Eswatini/2017",
          "Africa/Western Africa/Ghana/2017",
          "Africa/Western Africa/Guinea-Bissau/2017",
          "Asia/South-Eastern Asia/Thailand/2017",
          "Europe/Eastern Europe/Ukraine/2017",
          "Asia/Southern Asia/Afghanistan/2018",
          "Asia/Southern Asia/Bangladesh/2018",
          "Asia/Eastern Asia/China/2018",
          "Americas/Caribbean/Haiti/2018",
          "Asia/South-Eastern Asia/Indonesia/2018",
          "Asia/Southern Asia/Iran/2018",
          "Europe/Southern Europe/Kosovo/2018",
          "Europe/Northern Europe/Northern Ireland/2018",
          "Americas/South America/Peru/2018",
          "Europe/Northern Europe/Scotland/2018",
          "Asia/Western Asia/Syria/2018",
          "Europe/Northern Europe/United Kingdom/2018",
          "Americas/South America/Venezuela/2018",
          "Asia/Western Asia/Bahrain/2019",
          "Europe/Eastern Europe/Belarus/2019",
          "Americas/South America/Bolivia/2019",
          "Americas/Central America/El Salvador/2019",
          "Asia/Western Asia/Georgia/2019",
          "Asia/Western Asia/Israel/2019",
          "Asia/Southern Asia/Maldives/2019",
          "Oceania/Aus,NZ/New Zealand/2019",
          "Americas/Central America/Nicaragua/2019",
          "Africa/Western Africa/Nigeria/2019",
          "Europe/Southern Europe/North Macedonia/2019",
          "Asia/South-Eastern Asia/Philippines/2019",
          "Americas/Caribbean/Saint Vincent and the Grenadines/2019",
          "Asia/Western Asia/Saudi Arabia/2019",
          "Africa/Eastern Africa/Seychelles/2019",
          "Asia/Southern Asia/Sri Lanka/2019",
          "Americas/Caribbean/Trinidad and Tobago/2019",
          "Asia/Western Asia/United Arab Emirates/2019",
          "Asia/Central Asia/Uzbekistan/2019",
          "Europe/Southern Europe/Albania/2020",
          "Africa/Northern Africa/Algeria/2020",
          "Europe/Southern Europe/Andorra/2020",
          "Americas/Caribbean/Antigua and Barbuda/2020",
          "Americas/South America/Argentina/2020",
          "Asia/Western Asia/Armenia/2020",
          "Oceania/Aus,NZ/Australia/2020",
          "Europe/Western Europe/Austria/2020",
          "Asia/Western Asia/Azerbaijan/2020",
          "Americas/Caribbean/Bahamas/2020",
          "Americas/Caribbean/Barbados/2020",
          "Americas/Central America/Belize/2020",
          "Asia/Southern Asia/Bhutan/2020",
          "Europe/Southern Europe/Bosnia and Herzegovina/2020",
          "Americas/South America/Brazil/2020",
          "Europe/Eastern Europe/Bulgaria/2020",
          "Americas/Northern America/Canada/2020",
          "Africa/Western Africa/Cape Verde/2020",
          "Americas/South America/Chile/2020",
          "Americas/South America/Colombia/2020",
          "Americas/Central America/Costa Rica/2020",
          "Europe/Southern Europe/Croatia/2020",
          "Asia/Western Asia/Cyprus/2020",
          "Europe/Eastern Europe/Czech Republic/2020",
          "Europe/Northern Europe/Denmark/2020",
          "Americas/Caribbean/Dominica/2020",
          "Americas/Caribbean/Dominican Republic/2020",
          "Americas/South America/Ecuador/2020",
          "Europe/Northern Europe/Estonia/2020",
          "Europe/Northern Europe/Finland/2020",
          "Europe/Western Europe/France/2020",
          "Europe/Western Europe/Germany/2020",
          "Europe/Southern Europe/Greece/2020",
          "Americas/Caribbean/Grenada/2020",
          "Americas/Central America/Guatemala/2020",
          "Americas/South America/Guyana/2020",
          "Americas/Central America/Honduras/2020",
          "Asia/Eastern Asia/Hong Kong/2020",
          "Europe/Eastern Europe/Hungary/2020",
          "Europe/Northern Europe/Iceland/2020",
          "Asia/Southern Asia/India/2020",
          "Europe/Northern Europe/Ireland/2020",
          "Europe/Southern Europe/Italy/2020",
          "Americas/Caribbean/Jamaica/2020",
          "Asia/Eastern Asia/Japan/2020",
          "Asia/Western Asia/Jordan/2020",
          "Asia/Central Asia/Kazakhstan/2020",
          "Africa/Eastern Africa/Kenya/2020",
          "Asia/Central Asia/Kyrgyzstan/2020",
          "Europe/Northern Europe/Latvia/2020",
          "Asia/Western Asia/Lebanon/2020",
          "Europe/Western Europe/Liechtenstein/2020",
          "Europe/Northern Europe/Lithuania/2020",
          "Europe/Western Europe/Luxembourg/2020",
          "Asia/Eastern Asia/Macau/2020",
          "Europe/Southern Europe/Malta/2020",
          "Africa/Eastern Africa/Mauritius/2020",
          "Americas/Central America/Mexico/2020",
          "Europe/Eastern Europe/Moldova/2020",
          "Asia/Eastern Asia/Mongolia/2020",
          "Europe/Southern Europe/Montenegro/2020",
          "Africa/Northern Africa/Morocco/2020",
          "Africa/Southern Africa/Namibia/2020",
          "Europe/Western Europe/Netherlands/2020",
          "Europe/Northern Europe/Norway/2020",
          "Asia/Western Asia/Oman/2020",
          "Asia/Southern Asia/Pakistan/2020",
          "Asia/Western Asia/Palestine/2020",
          "Americas/Central America/Panama/2020",
          "Americas/South America/Paraguay/2020",
          "Europe/Eastern Europe/Poland/2020",
          "Europe/Southern Europe/Portugal/2020",
          "Americas/Caribbean/Puerto Rico/2020",
          "Asia/Western Asia/Qatar/2020",
          "Europe/Eastern Europe/Romania/2020",
          "Europe/Eastern Europe/Russia/2020",
          "Americas/Caribbean/Saint Kitts and Nevis/2020",
          "Americas/Caribbean/Saint Lucia/2020",
          "Europe/Southern Europe/Serbia/2020",
          "Asia/South-Eastern Asia/Singapore/2020",
          "Europe/Eastern Europe/Slovakia/2020",
          "Europe/Southern Europe/Slovenia/2020",
          "Africa/Southern Africa/South Africa/2020",
          "Asia/Eastern Asia/South Korea/2020",
          "Europe/Southern Europe/Spain/2020",
          "Americas/South America/Suriname/2020",
          "Europe/Northern Europe/Sweden/2020",
          "Europe/Western Europe/Switzerland/2020",
          "Asia/Central Asia/Tajikistan/2020",
          "Africa/Northern Africa/Tunisia/2020",
          "Asia/Western Asia/Turkey/2020",
          "Africa/Eastern Africa/Uganda/2020",
          "Americas/Northern America/United States/2020",
          "Americas/South America/Uruguay/2020",
          "Asia/South-Eastern Asia/Myanmar/2021",
          "Asia/Southern Asia/Afghanistan",
          "Europe/Southern Europe/Albania",
          "Africa/Northern Africa/Algeria",
          "Europe/Southern Europe/Andorra",
          "Africa/Middle Africa/Angola",
          "Americas/Caribbean/Anguilla",
          "Americas/Caribbean/Antigua and Barbuda",
          "Americas/South America/Argentina",
          "Asia/Western Asia/Armenia",
          "Americas/Caribbean/Aruba",
          "Oceania/Aus,NZ/Australia",
          "Europe/Western Europe/Austria",
          "Asia/Western Asia/Azerbaijan",
          "Americas/Caribbean/Bahamas",
          "Asia/Western Asia/Bahrain",
          "Asia/Southern Asia/Bangladesh",
          "Americas/Caribbean/Barbados",
          "Europe/Eastern Europe/Belarus",
          "Europe/Western Europe/Belgium",
          "Americas/Central America/Belize",
          "Africa/Western Africa/Benin",
          "Asia/Southern Asia/Bhutan",
          "Americas/South America/Bolivia",
          "Europe/Southern Europe/Bosnia and Herzegovina",
          "Africa/Southern Africa/Botswana",
          "Americas/South America/Brazil",
          "Americas/Caribbean/British Virgin Islands",
          "Asia/South-Eastern Asia/Brunei",
          "Europe/Eastern Europe/Bulgaria",
          "Africa/Western Africa/Burkina Faso",
          "Africa/Eastern Africa/Burundi",
          "Asia/South-Eastern Asia/Cambodia",
          "Africa/Middle Africa/Cameroon",
          "Americas/Northern America/Canada",
          "Africa/Western Africa/Cape Verde",
          "Americas/Caribbean/Cayman Islands",
          "Africa/Middle Africa/Central African Republic",
          "Americas/South America/Chile",
          "Asia/Eastern Asia/China",
          "Americas/South America/Colombia",
          "Americas/Central America/Costa Rica",
          "Europe/Southern Europe/Croatia",
          "Americas/Caribbean/Cuba",
          "Americas/Caribbean/Curaçao",
          "Asia/Western Asia/Cyprus",
          "Europe/Eastern Europe/Czech Republic",
          "Europe/Northern Europe/Denmark",
          "Americas/Caribbean/Dominica",
          "Americas/Caribbean/Dominican Republic",
          "Asia/South-Eastern Asia/East Timor",
          "Americas/South America/Ecuador",
          "Africa/Northern Africa/Egypt",
          "Americas/Central America/El Salvador",
          "Europe/Northern Europe/England and Wales",
          "Europe/Northern Europe/Estonia",
          "Africa/Southern Africa/Eswatini",
          "Africa/Eastern Africa/Ethiopia",
          "Europe/Northern Europe/Finland",
          "Europe/Western Europe/France",
          "Americas/South America/French Guiana",
          "Asia/Western Asia/Georgia",
          "Europe/Western Europe/Germany",
          "Africa/Western Africa/Ghana",
          "Europe/Southern Europe/Gibraltar",
          "Europe/Southern Europe/Greece",
          "Americas/Northern America/Greenland",
          "Americas/Caribbean/Grenada",
          "Americas/Caribbean/Guadeloupe",
          "Americas/Central America/Guatemala",
          "Africa/Western Africa/Guinea-Bissau",
          "Americas/South America/Guyana",
          "Americas/Caribbean/Haiti",
          "Americas/Central America/Honduras",
          "Asia/Eastern Asia/Hong Kong",
          "Europe/Eastern Europe/Hungary",
          "Europe/Northern Europe/Iceland",
          "Asia/Southern Asia/India",
          "Asia/South-Eastern Asia/Indonesia",
          "Asia/Southern Asia/Iran",
          "Asia/Western Asia/Iraq",
          "Asia/Western Asia/Iraq (excluding Kurdistan)",
          "Europe/Northern Europe/Ireland",
          "Asia/Western Asia/Israel",
          "Europe/Southern Europe/Italy",
          "Americas/Caribbean/Jamaica",
          "Asia/Eastern Asia/Japan",
          "Asia/Western Asia/Jordan",
          "Asia/Central Asia/Kazakhstan",
          "Africa/Eastern Africa/Kenya",
          "Europe/Southern Europe/Kosovo",
          "Asia/Western Asia/Kurdistan Region (Iraq)",
          "Asia/Western Asia/Kuwait",
          "Asia/Central Asia/Kyrgyzstan",
          "Europe/Northern Europe/Latvia",
          "Asia/Western Asia/Lebanon",
          "Africa/Southern Africa/Lesotho",
          "Africa/Western Africa/Liberia",
          "Europe/Western Europe/Liechtenstein",
          "Europe/Northern Europe/Lithuania",
          "Europe/Western Europe/Luxembourg",
          "Asia/Eastern Asia/Macau",
          "Africa/Eastern Africa/Malawi",
          "Asia/South-Eastern Asia/Malaysia",
          "Asia/Southern Asia/Maldives",
          "Europe/Southern Europe/Malta",
          "Americas/Caribbean/Martinique",
          "Africa/Eastern Africa/Mauritius",
          "Africa/Eastern Africa/Mayotte",
          "Americas/Central America/Mexico",
          "Europe/Eastern Europe/Moldova",
          "Asia/Eastern Asia/Mongolia",
          "Europe/Southern Europe/Montenegro",
          "Americas/Caribbean/Montserrat",
          "Africa/Northern Africa/Morocco",
          "Africa/Eastern Africa/Mozambique",
          "Asia/South-Eastern Asia/Myanmar",
          "Africa/Southern Africa/Namibia",
          "Asia/Southern Asia/Nepal",
          "Europe/Western Europe/Netherlands",
          "Oceania/Aus,NZ/New Zealand",
          "Americas/Central America/Nicaragua",
          "Africa/Western Africa/Niger",
          "Africa/Western Africa/Nigeria",
          "Europe/Southern Europe/North Macedonia",
          "Europe/Northern Europe/Northern Ireland",
          "Europe/Northern Europe/Norway",
          "Asia/Western Asia/Oman",
          "Asia/Southern Asia/Pakistan",
          "Asia/Western Asia/Palestine",
          "Americas/Central America/Panama",
          "Americas/South America/Paraguay",
          "Americas/South America/Peru",
          "Asia/South-Eastern Asia/Philippines",
          "Europe/Eastern Europe/Poland",
          "Europe/Southern Europe/Portugal",
          "Americas/Caribbean/Puerto Rico",
          "Asia/Western Asia/Qatar",
          "Europe/Eastern Europe/Romania",
          "Europe/Eastern Europe/Russia",
          "Africa/Eastern Africa/Rwanda",
          "Africa/Eastern Africa/Réunion",
          "Americas/Caribbean/Saint Kitts and Nevis",
          "Americas/Caribbean/Saint Lucia",
          "Americas/Caribbean/Saint Martin (French part)",
          "Americas/Northern America/Saint Pierre and Miquelon",
          "Americas/Caribbean/Saint Vincent and the Grenadines",
          "Asia/Western Asia/Saudi Arabia",
          "Europe/Northern Europe/Scotland",
          "Africa/Western Africa/Senegal",
          "Europe/Southern Europe/Serbia",
          "Africa/Eastern Africa/Seychelles",
          "Africa/Western Africa/Sierra Leone",
          "Asia/South-Eastern Asia/Singapore",
          "Europe/Eastern Europe/Slovakia",
          "Europe/Southern Europe/Slovenia",
          "Africa/Southern Africa/South Africa",
          "Asia/Eastern Asia/South Korea",
          "Africa/Eastern Africa/South Sudan",
          "Europe/Southern Europe/Spain",
          "Asia/Southern Asia/Sri Lanka",
          "Africa/Northern Africa/Sudan",
          "Americas/South America/Suriname",
          "Europe/Northern Europe/Sweden",
          "Europe/Western Europe/Switzerland",
          "Asia/Western Asia/Syria",
          "Africa/Middle Africa/São Tomé and Príncipe",
          "Asia/Eastern Asia/Taiwan",
          "Asia/Central Asia/Tajikistan",
          "Africa/Eastern Africa/Tanzania",
          "Asia/South-Eastern Asia/Thailand",
          "Americas/Caribbean/Trinidad and Tobago",
          "Africa/Northern Africa/Tunisia",
          "Asia/Western Asia/Turkey",
          "Asia/Central Asia/Turkmenistan",
          "Americas/Caribbean/Turks and Caicos Islands",
          "Americas/Caribbean/U.S. Virgin Islands",
          "Africa/Eastern Africa/Uganda",
          "Europe/Eastern Europe/Ukraine",
          "Asia/Western Asia/United Arab Emirates",
          "Europe/Northern Europe/United Kingdom",
          "Americas/Northern America/United States",
          "Americas/South America/Uruguay",
          "Asia/Central Asia/Uzbekistan",
          "Americas/South America/Venezuela",
          "Asia/South-Eastern Asia/Vietnam",
          "Asia/Western Asia/Yemen",
          "Africa/Eastern Africa/Zambia",
          "Africa/Eastern Africa/Zimbabwe",
          "Oceania/Aus,NZ",
          "Americas/Caribbean",
          "Americas/Central America",
          "Asia/Central Asia",
          "Africa/Eastern Africa",
          "Asia/Eastern Asia",
          "Europe/Eastern Europe",
          "Africa/Middle Africa",
          "Africa/Northern Africa",
          "Americas/Northern America",
          "Europe/Northern Europe",
          "Americas/South America",
          "Asia/South-Eastern Asia",
          "Africa/Southern Africa",
          "Asia/Southern Asia",
          "Europe/Southern Europe",
          "Africa/Western Africa",
          "Asia/Western Asia",
          "Europe/Western Europe",
          "Africa",
          "Americas",
          "Asia",
          "Europe",
          "Oceania"
         ],
         "labels": [
          "2006",
          "2006",
          "2007",
          "2008",
          "2009",
          "2009",
          "2009",
          "2009",
          "2009",
          "2010",
          "2010",
          "2011",
          "2011",
          "2011",
          "2011",
          "2012",
          "2012",
          "2012",
          "2012",
          "2012",
          "2012",
          "2012",
          "2012",
          "2012",
          "2012",
          "2012",
          "2013",
          "2013",
          "2013",
          "2013",
          "2013",
          "2014",
          "2014",
          "2014",
          "2014",
          "2014",
          "2015",
          "2015",
          "2015",
          "2015",
          "2015",
          "2015",
          "2015",
          "2016",
          "2016",
          "2016",
          "2016",
          "2016",
          "2016",
          "2016",
          "2016",
          "2017",
          "2017",
          "2017",
          "2017",
          "2017",
          "2017",
          "2017",
          "2017",
          "2017",
          "2017",
          "2018",
          "2018",
          "2018",
          "2018",
          "2018",
          "2018",
          "2018",
          "2018",
          "2018",
          "2018",
          "2018",
          "2018",
          "2018",
          "2019",
          "2019",
          "2019",
          "2019",
          "2019",
          "2019",
          "2019",
          "2019",
          "2019",
          "2019",
          "2019",
          "2019",
          "2019",
          "2019",
          "2019",
          "2019",
          "2019",
          "2019",
          "2019",
          "2020",
          "2020",
          "2020",
          "2020",
          "2020",
          "2020",
          "2020",
          "2020",
          "2020",
          "2020",
          "2020",
          "2020",
          "2020",
          "2020",
          "2020",
          "2020",
          "2020",
          "2020",
          "2020",
          "2020",
          "2020",
          "2020",
          "2020",
          "2020",
          "2020",
          "2020",
          "2020",
          "2020",
          "2020",
          "2020",
          "2020",
          "2020",
          "2020",
          "2020",
          "2020",
          "2020",
          "2020",
          "2020",
          "2020",
          "2020",
          "2020",
          "2020",
          "2020",
          "2020",
          "2020",
          "2020",
          "2020",
          "2020",
          "2020",
          "2020",
          "2020",
          "2020",
          "2020",
          "2020",
          "2020",
          "2020",
          "2020",
          "2020",
          "2020",
          "2020",
          "2020",
          "2020",
          "2020",
          "2020",
          "2020",
          "2020",
          "2020",
          "2020",
          "2020",
          "2020",
          "2020",
          "2020",
          "2020",
          "2020",
          "2020",
          "2020",
          "2020",
          "2020",
          "2020",
          "2020",
          "2020",
          "2020",
          "2020",
          "2020",
          "2020",
          "2020",
          "2020",
          "2020",
          "2020",
          "2020",
          "2020",
          "2020",
          "2020",
          "2020",
          "2021",
          "Afghanistan",
          "Albania",
          "Algeria",
          "Andorra",
          "Angola",
          "Anguilla",
          "Antigua and Barbuda",
          "Argentina",
          "Armenia",
          "Aruba",
          "Australia",
          "Austria",
          "Azerbaijan",
          "Bahamas",
          "Bahrain",
          "Bangladesh",
          "Barbados",
          "Belarus",
          "Belgium",
          "Belize",
          "Benin",
          "Bhutan",
          "Bolivia",
          "Bosnia and Herzegovina",
          "Botswana",
          "Brazil",
          "British Virgin Islands",
          "Brunei",
          "Bulgaria",
          "Burkina Faso",
          "Burundi",
          "Cambodia",
          "Cameroon",
          "Canada",
          "Cape Verde",
          "Cayman Islands",
          "Central African Republic",
          "Chile",
          "China",
          "Colombia",
          "Costa Rica",
          "Croatia",
          "Cuba",
          "Curaçao",
          "Cyprus",
          "Czech Republic",
          "Denmark",
          "Dominica",
          "Dominican Republic",
          "East Timor",
          "Ecuador",
          "Egypt",
          "El Salvador",
          "England and Wales",
          "Estonia",
          "Eswatini",
          "Ethiopia",
          "Finland",
          "France",
          "French Guiana",
          "Georgia",
          "Germany",
          "Ghana",
          "Gibraltar",
          "Greece",
          "Greenland",
          "Grenada",
          "Guadeloupe",
          "Guatemala",
          "Guinea-Bissau",
          "Guyana",
          "Haiti",
          "Honduras",
          "Hong Kong",
          "Hungary",
          "Iceland",
          "India",
          "Indonesia",
          "Iran",
          "Iraq",
          "Iraq (excluding Kurdistan)",
          "Ireland",
          "Israel",
          "Italy",
          "Jamaica",
          "Japan",
          "Jordan",
          "Kazakhstan",
          "Kenya",
          "Kosovo",
          "Kurdistan Region (Iraq)",
          "Kuwait",
          "Kyrgyzstan",
          "Latvia",
          "Lebanon",
          "Lesotho",
          "Liberia",
          "Liechtenstein",
          "Lithuania",
          "Luxembourg",
          "Macau",
          "Malawi",
          "Malaysia",
          "Maldives",
          "Malta",
          "Martinique",
          "Mauritius",
          "Mayotte",
          "Mexico",
          "Moldova",
          "Mongolia",
          "Montenegro",
          "Montserrat",
          "Morocco",
          "Mozambique",
          "Myanmar",
          "Namibia",
          "Nepal",
          "Netherlands",
          "New Zealand",
          "Nicaragua",
          "Niger",
          "Nigeria",
          "North Macedonia",
          "Northern Ireland",
          "Norway",
          "Oman",
          "Pakistan",
          "Palestine",
          "Panama",
          "Paraguay",
          "Peru",
          "Philippines",
          "Poland",
          "Portugal",
          "Puerto Rico",
          "Qatar",
          "Romania",
          "Russia",
          "Rwanda",
          "Réunion",
          "Saint Kitts and Nevis",
          "Saint Lucia",
          "Saint Martin (French part)",
          "Saint Pierre and Miquelon",
          "Saint Vincent and the Grenadines",
          "Saudi Arabia",
          "Scotland",
          "Senegal",
          "Serbia",
          "Seychelles",
          "Sierra Leone",
          "Singapore",
          "Slovakia",
          "Slovenia",
          "South Africa",
          "South Korea",
          "South Sudan",
          "Spain",
          "Sri Lanka",
          "Sudan",
          "Suriname",
          "Sweden",
          "Switzerland",
          "Syria",
          "São Tomé and Príncipe",
          "Taiwan",
          "Tajikistan",
          "Tanzania",
          "Thailand",
          "Trinidad and Tobago",
          "Tunisia",
          "Turkey",
          "Turkmenistan",
          "Turks and Caicos Islands",
          "U.S. Virgin Islands",
          "Uganda",
          "Ukraine",
          "United Arab Emirates",
          "United Kingdom",
          "United States",
          "Uruguay",
          "Uzbekistan",
          "Venezuela",
          "Vietnam",
          "Yemen",
          "Zambia",
          "Zimbabwe",
          "Aus,NZ",
          "Caribbean",
          "Central America",
          "Central Asia",
          "Eastern Africa",
          "Eastern Asia",
          "Eastern Europe",
          "Middle Africa",
          "Northern Africa",
          "Northern America",
          "Northern Europe",
          "South America",
          "South-Eastern Asia",
          "Southern Africa",
          "Southern Asia",
          "Southern Europe",
          "Western Africa",
          "Western Asia",
          "Western Europe",
          "Africa",
          "Americas",
          "Asia",
          "Europe",
          "Oceania"
         ],
         "marker": {
          "coloraxis": "coloraxis",
          "colors": [
           2,
           203,
           26,
           1702,
           30,
           11,
           12,
           15,
           1,
           303,
           1,
           268,
           849,
           6,
           1358,
           1217,
           2207,
           8153,
           61,
           135,
           279,
           1,
           788,
           1504,
           52,
           981,
           2,
           3339,
           111,
           627,
           1703,
           4,
           2,
           5,
           3029,
           2,
           49,
           897,
           293,
           39,
           124,
           192,
           853,
           635,
           913,
           572,
           3,
           23,
           627,
           10,
           3439,
           193,
           126,
           240,
           341,
           726,
           130,
           609,
           21,
           1787,
           2751,
           2474,
           3830,
           7525,
           743,
           1150,
           1795,
           44,
           23,
           2452,
           61,
           149,
           755,
           10598,
           2,
           225,
           806,
           2398,
           77,
           125,
           3,
           126,
           515,
           44200,
           24,
           4764,
           19,
           285,
           10,
           742,
           538,
           64,
           396,
           61,
           580,
           2,
           9,
           2416,
           52,
           221,
           65,
           230,
           73,
           41,
           102,
           19,
           43,
           47722,
           69,
           743,
           36,
           926,
           11520,
           570,
           39,
           15,
           77,
           55,
           15,
           961,
           1372,
           42,
           91,
           879,
           782,
           78,
           14,
           3129,
           157,
           3598,
           22,
           80,
           5,
           40651,
           34,
           285,
           1323,
           318,
           99,
           606,
           2151,
           114,
           49,
           128,
           1,
           101,
           1,
           2,
           7,
           35,
           36579,
           93,
           196,
           18,
           487,
           303,
           107,
           31,
           14,
           8490,
           48,
           480,
           481,
           268,
           93,
           529,
           12,
           281,
           10697,
           10,
           52,
           89,
           10,
           63,
           11,
           19846,
           308,
           298,
           55,
           124,
           47,
           87,
           562,
           2095,
           4460,
           21570,
           337,
           15299,
           2474,
           61,
           580,
           2,
           1217,
           4,
           9,
           2416,
           52,
           2,
           221,
           65,
           230,
           73,
           2,
           3830,
           41,
           225,
           193,
           102,
           126,
           19,
           806,
           43,
           303,
           47722,
           2,
           2,
           69,
           240,
           635,
           268,
           341,
           743,
           36,
           5,
           913,
           926,
           7525,
           11520,
           570,
           39,
           572,
           26,
           15,
           77,
           55,
           15,
           961,
           49,
           1372,
           2207,
           2398,
           726,
           42,
           130,
           8153,
           91,
           879,
           30,
           77,
           782,
           609,
           1,
           78,
           3,
           14,
           23,
           3129,
           21,
           157,
           743,
           3598,
           22,
           80,
           5,
           40651,
           1150,
           1795,
           3339,
           3029,
           34,
           125,
           285,
           1323,
           318,
           99,
           606,
           2151,
           44,
           111,
           61,
           114,
           49,
           128,
           897,
           135,
           1,
           101,
           1,
           2,
           279,
           627,
           3,
           7,
           11,
           35,
           12,
           36579,
           93,
           196,
           18,
           1,
           487,
           849,
           15299,
           303,
           627,
           107,
           126,
           515,
           788,
           44200,
           24,
           23,
           31,
           14,
           8490,
           48,
           480,
           481,
           2452,
           4764,
           268,
           93,
           529,
           12,
           281,
           10697,
           293,
           15,
           10,
           52,
           10,
           1,
           19,
           285,
           61,
           39,
           89,
           10,
           124,
           10,
           63,
           11,
           19846,
           308,
           1504,
           298,
           742,
           1702,
           55,
           124,
           47,
           149,
           6,
           192,
           87,
           3439,
           1787,
           538,
           562,
           2095,
           203,
           2,
           52,
           4460,
           2751,
           64,
           755,
           21570,
           337,
           396,
           10598,
           1358,
           1703,
           853,
           981,
           186.5043227665706,
           821.3676791741116,
           28864.512444322474,
           416.6614509246088,
           4565.377793738646,
           6644.561602242205,
           8369.277458230621,
           981.4190553088414,
           1563.21162874684,
           20872.740914997536,
           545.7992370052456,
           32179.095851506238,
           10412.522240657343,
           18383.9491130872,
           29839.83839607034,
           185.53064958828912,
           42202.64605552917,
           2392.402130950335,
           693.6380722891566,
           24816.3666529287,
           28485.742918155953,
           19880.704638472034,
           6291.78886707937,
           186.5043227665706
          ]
         },
         "name": "",
         "parents": [
          "Americas/Caribbean/British Virgin Islands",
          "Asia/Central Asia/Turkmenistan",
          "Americas/Caribbean/Curaçao",
          "Africa/Northern Africa/Sudan",
          "Americas/South America/French Guiana",
          "Americas/Caribbean/Martinique",
          "Africa/Eastern Africa/Mayotte",
          "Africa/Eastern Africa/Réunion",
          "Americas/Northern America/Saint Pierre and Miquelon",
          "Africa/Southern Africa/Botswana",
          "Europe/Southern Europe/Gibraltar",
          "Asia/South-Eastern Asia/Cambodia",
          "Africa/Eastern Africa/Mozambique",
          "Africa/Middle Africa/São Tomé and Príncipe",
          "Asia/South-Eastern Asia/Vietnam",
          "Africa/Middle Africa/Angola",
          "Africa/Northern Africa/Egypt",
          "Africa/Eastern Africa/Ethiopia",
          "Asia/Western Asia/Kuwait",
          "Africa/Western Africa/Liberia",
          "Africa/Eastern Africa/Malawi",
          "Americas/Caribbean/Montserrat",
          "Africa/Western Africa/Niger",
          "Africa/Eastern Africa/South Sudan",
          "Americas/Caribbean/U.S. Virgin Islands",
          "Africa/Eastern Africa/Zimbabwe",
          "Asia/South-Eastern Asia/Brunei",
          "Asia/Western Asia/Iraq",
          "Asia/Western Asia/Kurdistan Region (Iraq)",
          "Asia/South-Eastern Asia/Malaysia",
          "Asia/Western Asia/Yemen",
          "Americas/Caribbean/Anguilla",
          "Americas/Caribbean/Aruba",
          "Americas/Caribbean/Cayman Islands",
          "Asia/Western Asia/Iraq (excluding Kurdistan)",
          "Americas/Caribbean/Turks and Caicos Islands",
          "Asia/South-Eastern Asia/East Timor",
          "Africa/Southern Africa/Lesotho",
          "Africa/Eastern Africa/Rwanda",
          "Africa/Western Africa/Senegal",
          "Africa/Western Africa/Sierra Leone",
          "Asia/Eastern Asia/Taiwan",
          "Africa/Eastern Africa/Zambia",
          "Africa/Eastern Africa/Burundi",
          "Africa/Middle Africa/Central African Republic",
          "Americas/Caribbean/Cuba",
          "Americas/Northern America/Greenland",
          "Americas/Caribbean/Guadeloupe",
          "Asia/Southern Asia/Nepal",
          "Americas/Caribbean/Saint Martin (French part)",
          "Africa/Eastern Africa/Tanzania",
          "Europe/Western Europe/Belgium",
          "Africa/Western Africa/Benin",
          "Africa/Western Africa/Burkina Faso",
          "Africa/Middle Africa/Cameroon",
          "Europe/Northern Europe/England and Wales",
          "Africa/Southern Africa/Eswatini",
          "Africa/Western Africa/Ghana",
          "Africa/Western Africa/Guinea-Bissau",
          "Asia/South-Eastern Asia/Thailand",
          "Europe/Eastern Europe/Ukraine",
          "Asia/Southern Asia/Afghanistan",
          "Asia/Southern Asia/Bangladesh",
          "Asia/Eastern Asia/China",
          "Americas/Caribbean/Haiti",
          "Asia/South-Eastern Asia/Indonesia",
          "Asia/Southern Asia/Iran",
          "Europe/Southern Europe/Kosovo",
          "Europe/Northern Europe/Northern Ireland",
          "Americas/South America/Peru",
          "Europe/Northern Europe/Scotland",
          "Asia/Western Asia/Syria",
          "Europe/Northern Europe/United Kingdom",
          "Americas/South America/Venezuela",
          "Asia/Western Asia/Bahrain",
          "Europe/Eastern Europe/Belarus",
          "Americas/South America/Bolivia",
          "Americas/Central America/El Salvador",
          "Asia/Western Asia/Georgia",
          "Asia/Western Asia/Israel",
          "Asia/Southern Asia/Maldives",
          "Oceania/Aus,NZ/New Zealand",
          "Americas/Central America/Nicaragua",
          "Africa/Western Africa/Nigeria",
          "Europe/Southern Europe/North Macedonia",
          "Asia/South-Eastern Asia/Philippines",
          "Americas/Caribbean/Saint Vincent and the Grenadines",
          "Asia/Western Asia/Saudi Arabia",
          "Africa/Eastern Africa/Seychelles",
          "Asia/Southern Asia/Sri Lanka",
          "Americas/Caribbean/Trinidad and Tobago",
          "Asia/Western Asia/United Arab Emirates",
          "Asia/Central Asia/Uzbekistan",
          "Europe/Southern Europe/Albania",
          "Africa/Northern Africa/Algeria",
          "Europe/Southern Europe/Andorra",
          "Americas/Caribbean/Antigua and Barbuda",
          "Americas/South America/Argentina",
          "Asia/Western Asia/Armenia",
          "Oceania/Aus,NZ/Australia",
          "Europe/Western Europe/Austria",
          "Asia/Western Asia/Azerbaijan",
          "Americas/Caribbean/Bahamas",
          "Americas/Caribbean/Barbados",
          "Americas/Central America/Belize",
          "Asia/Southern Asia/Bhutan",
          "Europe/Southern Europe/Bosnia and Herzegovina",
          "Americas/South America/Brazil",
          "Europe/Eastern Europe/Bulgaria",
          "Americas/Northern America/Canada",
          "Africa/Western Africa/Cape Verde",
          "Americas/South America/Chile",
          "Americas/South America/Colombia",
          "Americas/Central America/Costa Rica",
          "Europe/Southern Europe/Croatia",
          "Asia/Western Asia/Cyprus",
          "Europe/Eastern Europe/Czech Republic",
          "Europe/Northern Europe/Denmark",
          "Americas/Caribbean/Dominica",
          "Americas/Caribbean/Dominican Republic",
          "Americas/South America/Ecuador",
          "Europe/Northern Europe/Estonia",
          "Europe/Northern Europe/Finland",
          "Europe/Western Europe/France",
          "Europe/Western Europe/Germany",
          "Europe/Southern Europe/Greece",
          "Americas/Caribbean/Grenada",
          "Americas/Central America/Guatemala",
          "Americas/South America/Guyana",
          "Americas/Central America/Honduras",
          "Asia/Eastern Asia/Hong Kong",
          "Europe/Eastern Europe/Hungary",
          "Europe/Northern Europe/Iceland",
          "Asia/Southern Asia/India",
          "Europe/Northern Europe/Ireland",
          "Europe/Southern Europe/Italy",
          "Americas/Caribbean/Jamaica",
          "Asia/Eastern Asia/Japan",
          "Asia/Western Asia/Jordan",
          "Asia/Central Asia/Kazakhstan",
          "Africa/Eastern Africa/Kenya",
          "Asia/Central Asia/Kyrgyzstan",
          "Europe/Northern Europe/Latvia",
          "Asia/Western Asia/Lebanon",
          "Europe/Western Europe/Liechtenstein",
          "Europe/Northern Europe/Lithuania",
          "Europe/Western Europe/Luxembourg",
          "Asia/Eastern Asia/Macau",
          "Europe/Southern Europe/Malta",
          "Africa/Eastern Africa/Mauritius",
          "Americas/Central America/Mexico",
          "Europe/Eastern Europe/Moldova",
          "Asia/Eastern Asia/Mongolia",
          "Europe/Southern Europe/Montenegro",
          "Africa/Northern Africa/Morocco",
          "Africa/Southern Africa/Namibia",
          "Europe/Western Europe/Netherlands",
          "Europe/Northern Europe/Norway",
          "Asia/Western Asia/Oman",
          "Asia/Southern Asia/Pakistan",
          "Asia/Western Asia/Palestine",
          "Americas/Central America/Panama",
          "Americas/South America/Paraguay",
          "Europe/Eastern Europe/Poland",
          "Europe/Southern Europe/Portugal",
          "Americas/Caribbean/Puerto Rico",
          "Asia/Western Asia/Qatar",
          "Europe/Eastern Europe/Romania",
          "Europe/Eastern Europe/Russia",
          "Americas/Caribbean/Saint Kitts and Nevis",
          "Americas/Caribbean/Saint Lucia",
          "Europe/Southern Europe/Serbia",
          "Asia/South-Eastern Asia/Singapore",
          "Europe/Eastern Europe/Slovakia",
          "Europe/Southern Europe/Slovenia",
          "Africa/Southern Africa/South Africa",
          "Asia/Eastern Asia/South Korea",
          "Europe/Southern Europe/Spain",
          "Americas/South America/Suriname",
          "Europe/Northern Europe/Sweden",
          "Europe/Western Europe/Switzerland",
          "Asia/Central Asia/Tajikistan",
          "Africa/Northern Africa/Tunisia",
          "Asia/Western Asia/Turkey",
          "Africa/Eastern Africa/Uganda",
          "Americas/Northern America/United States",
          "Americas/South America/Uruguay",
          "Asia/South-Eastern Asia/Myanmar",
          "Asia/Southern Asia",
          "Europe/Southern Europe",
          "Africa/Northern Africa",
          "Europe/Southern Europe",
          "Africa/Middle Africa",
          "Americas/Caribbean",
          "Americas/Caribbean",
          "Americas/South America",
          "Asia/Western Asia",
          "Americas/Caribbean",
          "Oceania/Aus,NZ",
          "Europe/Western Europe",
          "Asia/Western Asia",
          "Americas/Caribbean",
          "Asia/Western Asia",
          "Asia/Southern Asia",
          "Americas/Caribbean",
          "Europe/Eastern Europe",
          "Europe/Western Europe",
          "Americas/Central America",
          "Africa/Western Africa",
          "Asia/Southern Asia",
          "Americas/South America",
          "Europe/Southern Europe",
          "Africa/Southern Africa",
          "Americas/South America",
          "Americas/Caribbean",
          "Asia/South-Eastern Asia",
          "Europe/Eastern Europe",
          "Africa/Western Africa",
          "Africa/Eastern Africa",
          "Asia/South-Eastern Asia",
          "Africa/Middle Africa",
          "Americas/Northern America",
          "Africa/Western Africa",
          "Americas/Caribbean",
          "Africa/Middle Africa",
          "Americas/South America",
          "Asia/Eastern Asia",
          "Americas/South America",
          "Americas/Central America",
          "Europe/Southern Europe",
          "Americas/Caribbean",
          "Americas/Caribbean",
          "Asia/Western Asia",
          "Europe/Eastern Europe",
          "Europe/Northern Europe",
          "Americas/Caribbean",
          "Americas/Caribbean",
          "Asia/South-Eastern Asia",
          "Americas/South America",
          "Africa/Northern Africa",
          "Americas/Central America",
          "Europe/Northern Europe",
          "Europe/Northern Europe",
          "Africa/Southern Africa",
          "Africa/Eastern Africa",
          "Europe/Northern Europe",
          "Europe/Western Europe",
          "Americas/South America",
          "Asia/Western Asia",
          "Europe/Western Europe",
          "Africa/Western Africa",
          "Europe/Southern Europe",
          "Europe/Southern Europe",
          "Americas/Northern America",
          "Americas/Caribbean",
          "Americas/Caribbean",
          "Americas/Central America",
          "Africa/Western Africa",
          "Americas/South America",
          "Americas/Caribbean",
          "Americas/Central America",
          "Asia/Eastern Asia",
          "Europe/Eastern Europe",
          "Europe/Northern Europe",
          "Asia/Southern Asia",
          "Asia/South-Eastern Asia",
          "Asia/Southern Asia",
          "Asia/Western Asia",
          "Asia/Western Asia",
          "Europe/Northern Europe",
          "Asia/Western Asia",
          "Europe/Southern Europe",
          "Americas/Caribbean",
          "Asia/Eastern Asia",
          "Asia/Western Asia",
          "Asia/Central Asia",
          "Africa/Eastern Africa",
          "Europe/Southern Europe",
          "Asia/Western Asia",
          "Asia/Western Asia",
          "Asia/Central Asia",
          "Europe/Northern Europe",
          "Asia/Western Asia",
          "Africa/Southern Africa",
          "Africa/Western Africa",
          "Europe/Western Europe",
          "Europe/Northern Europe",
          "Europe/Western Europe",
          "Asia/Eastern Asia",
          "Africa/Eastern Africa",
          "Asia/South-Eastern Asia",
          "Asia/Southern Asia",
          "Europe/Southern Europe",
          "Americas/Caribbean",
          "Africa/Eastern Africa",
          "Africa/Eastern Africa",
          "Americas/Central America",
          "Europe/Eastern Europe",
          "Asia/Eastern Asia",
          "Europe/Southern Europe",
          "Americas/Caribbean",
          "Africa/Northern Africa",
          "Africa/Eastern Africa",
          "Asia/South-Eastern Asia",
          "Africa/Southern Africa",
          "Asia/Southern Asia",
          "Europe/Western Europe",
          "Oceania/Aus,NZ",
          "Americas/Central America",
          "Africa/Western Africa",
          "Africa/Western Africa",
          "Europe/Southern Europe",
          "Europe/Northern Europe",
          "Europe/Northern Europe",
          "Asia/Western Asia",
          "Asia/Southern Asia",
          "Asia/Western Asia",
          "Americas/Central America",
          "Americas/South America",
          "Americas/South America",
          "Asia/South-Eastern Asia",
          "Europe/Eastern Europe",
          "Europe/Southern Europe",
          "Americas/Caribbean",
          "Asia/Western Asia",
          "Europe/Eastern Europe",
          "Europe/Eastern Europe",
          "Africa/Eastern Africa",
          "Africa/Eastern Africa",
          "Americas/Caribbean",
          "Americas/Caribbean",
          "Americas/Caribbean",
          "Americas/Northern America",
          "Americas/Caribbean",
          "Asia/Western Asia",
          "Europe/Northern Europe",
          "Africa/Western Africa",
          "Europe/Southern Europe",
          "Africa/Eastern Africa",
          "Africa/Western Africa",
          "Asia/South-Eastern Asia",
          "Europe/Eastern Europe",
          "Europe/Southern Europe",
          "Africa/Southern Africa",
          "Asia/Eastern Asia",
          "Africa/Eastern Africa",
          "Europe/Southern Europe",
          "Asia/Southern Asia",
          "Africa/Northern Africa",
          "Americas/South America",
          "Europe/Northern Europe",
          "Europe/Western Europe",
          "Asia/Western Asia",
          "Africa/Middle Africa",
          "Asia/Eastern Asia",
          "Asia/Central Asia",
          "Africa/Eastern Africa",
          "Asia/South-Eastern Asia",
          "Americas/Caribbean",
          "Africa/Northern Africa",
          "Asia/Western Asia",
          "Asia/Central Asia",
          "Americas/Caribbean",
          "Americas/Caribbean",
          "Africa/Eastern Africa",
          "Europe/Eastern Europe",
          "Asia/Western Asia",
          "Europe/Northern Europe",
          "Americas/Northern America",
          "Americas/South America",
          "Asia/Central Asia",
          "Americas/South America",
          "Asia/South-Eastern Asia",
          "Asia/Western Asia",
          "Africa/Eastern Africa",
          "Africa/Eastern Africa",
          "Oceania",
          "Americas",
          "Americas",
          "Asia",
          "Africa",
          "Asia",
          "Europe",
          "Africa",
          "Africa",
          "Americas",
          "Europe",
          "Americas",
          "Asia",
          "Africa",
          "Asia",
          "Europe",
          "Africa",
          "Asia",
          "Europe",
          "",
          "",
          "",
          "",
          ""
         ],
         "type": "treemap",
         "values": [
          2,
          203,
          26,
          1702,
          30,
          11,
          12,
          15,
          1,
          303,
          1,
          268,
          849,
          6,
          1358,
          1217,
          2207,
          8153,
          61,
          135,
          279,
          1,
          788,
          1504,
          52,
          981,
          2,
          3339,
          111,
          627,
          1703,
          4,
          2,
          5,
          3029,
          2,
          49,
          897,
          293,
          39,
          124,
          192,
          853,
          635,
          913,
          572,
          3,
          23,
          627,
          10,
          3439,
          193,
          126,
          240,
          341,
          726,
          130,
          609,
          21,
          1787,
          2751,
          2474,
          3830,
          7525,
          743,
          1150,
          1795,
          44,
          23,
          2452,
          61,
          149,
          755,
          10598,
          2,
          225,
          806,
          2398,
          77,
          125,
          3,
          126,
          515,
          44200,
          24,
          4764,
          19,
          285,
          10,
          742,
          538,
          64,
          396,
          61,
          580,
          2,
          9,
          2416,
          52,
          221,
          65,
          230,
          73,
          41,
          102,
          19,
          43,
          47722,
          69,
          743,
          36,
          926,
          11520,
          570,
          39,
          15,
          77,
          55,
          15,
          961,
          1372,
          42,
          91,
          879,
          782,
          78,
          14,
          3129,
          157,
          3598,
          22,
          80,
          5,
          40651,
          34,
          285,
          1323,
          318,
          99,
          606,
          2151,
          114,
          49,
          128,
          1,
          101,
          1,
          2,
          7,
          35,
          36579,
          93,
          196,
          18,
          487,
          303,
          107,
          31,
          14,
          8490,
          48,
          480,
          481,
          268,
          93,
          529,
          12,
          281,
          10697,
          10,
          52,
          89,
          10,
          63,
          11,
          19846,
          308,
          298,
          55,
          124,
          47,
          87,
          562,
          2095,
          4460,
          21570,
          337,
          15299,
          2474,
          61,
          580,
          2,
          1217,
          4,
          9,
          2416,
          52,
          2,
          221,
          65,
          230,
          73,
          2,
          3830,
          41,
          225,
          193,
          102,
          126,
          19,
          806,
          43,
          303,
          47722,
          2,
          2,
          69,
          240,
          635,
          268,
          341,
          743,
          36,
          5,
          913,
          926,
          7525,
          11520,
          570,
          39,
          572,
          26,
          15,
          77,
          55,
          15,
          961,
          49,
          1372,
          2207,
          2398,
          726,
          42,
          130,
          8153,
          91,
          879,
          30,
          77,
          782,
          609,
          1,
          78,
          3,
          14,
          23,
          3129,
          21,
          157,
          743,
          3598,
          22,
          80,
          5,
          40651,
          1150,
          1795,
          3339,
          3029,
          34,
          125,
          285,
          1323,
          318,
          99,
          606,
          2151,
          44,
          111,
          61,
          114,
          49,
          128,
          897,
          135,
          1,
          101,
          1,
          2,
          279,
          627,
          3,
          7,
          11,
          35,
          12,
          36579,
          93,
          196,
          18,
          1,
          487,
          849,
          15299,
          303,
          627,
          107,
          126,
          515,
          788,
          44200,
          24,
          23,
          31,
          14,
          8490,
          48,
          480,
          481,
          2452,
          4764,
          268,
          93,
          529,
          12,
          281,
          10697,
          293,
          15,
          10,
          52,
          10,
          1,
          19,
          285,
          61,
          39,
          89,
          10,
          124,
          10,
          63,
          11,
          19846,
          308,
          1504,
          298,
          742,
          1702,
          55,
          124,
          47,
          149,
          6,
          192,
          87,
          3439,
          1787,
          538,
          562,
          2095,
          203,
          2,
          52,
          4460,
          2751,
          64,
          755,
          21570,
          337,
          396,
          10598,
          1358,
          1703,
          853,
          981,
          347,
          5037,
          47371,
          1406,
          23669,
          8563,
          14604,
          2477,
          5538,
          22317,
          2097,
          78872,
          25314,
          21479,
          58631,
          1093,
          46318,
          11638,
          2075,
          99481,
          153597,
          105552,
          19869,
          347
         ]
        }
       ],
       "layout": {
        "coloraxis": {
         "colorbar": {
          "title": {
           "text": "Count"
          }
         },
         "colorscale": [
          [
           0,
           "#440154"
          ],
          [
           0.1111111111111111,
           "#482878"
          ],
          [
           0.2222222222222222,
           "#3e4989"
          ],
          [
           0.3333333333333333,
           "#31688e"
          ],
          [
           0.4444444444444444,
           "#26828e"
          ],
          [
           0.5555555555555556,
           "#1f9e89"
          ],
          [
           0.6666666666666666,
           "#35b779"
          ],
          [
           0.7777777777777778,
           "#6ece58"
          ],
          [
           0.8888888888888888,
           "#b5de2b"
          ],
          [
           1,
           "#fde725"
          ]
         ]
        },
        "legend": {
         "tracegroupgap": 0
        },
        "template": {
         "data": {
          "bar": [
           {
            "error_x": {
             "color": "#2a3f5f"
            },
            "error_y": {
             "color": "#2a3f5f"
            },
            "marker": {
             "line": {
              "color": "#E5ECF6",
              "width": 0.5
             },
             "pattern": {
              "fillmode": "overlay",
              "size": 10,
              "solidity": 0.2
             }
            },
            "type": "bar"
           }
          ],
          "barpolar": [
           {
            "marker": {
             "line": {
              "color": "#E5ECF6",
              "width": 0.5
             },
             "pattern": {
              "fillmode": "overlay",
              "size": 10,
              "solidity": 0.2
             }
            },
            "type": "barpolar"
           }
          ],
          "carpet": [
           {
            "aaxis": {
             "endlinecolor": "#2a3f5f",
             "gridcolor": "white",
             "linecolor": "white",
             "minorgridcolor": "white",
             "startlinecolor": "#2a3f5f"
            },
            "baxis": {
             "endlinecolor": "#2a3f5f",
             "gridcolor": "white",
             "linecolor": "white",
             "minorgridcolor": "white",
             "startlinecolor": "#2a3f5f"
            },
            "type": "carpet"
           }
          ],
          "choropleth": [
           {
            "colorbar": {
             "outlinewidth": 0,
             "ticks": ""
            },
            "type": "choropleth"
           }
          ],
          "contour": [
           {
            "colorbar": {
             "outlinewidth": 0,
             "ticks": ""
            },
            "colorscale": [
             [
              0,
              "#0d0887"
             ],
             [
              0.1111111111111111,
              "#46039f"
             ],
             [
              0.2222222222222222,
              "#7201a8"
             ],
             [
              0.3333333333333333,
              "#9c179e"
             ],
             [
              0.4444444444444444,
              "#bd3786"
             ],
             [
              0.5555555555555556,
              "#d8576b"
             ],
             [
              0.6666666666666666,
              "#ed7953"
             ],
             [
              0.7777777777777778,
              "#fb9f3a"
             ],
             [
              0.8888888888888888,
              "#fdca26"
             ],
             [
              1,
              "#f0f921"
             ]
            ],
            "type": "contour"
           }
          ],
          "contourcarpet": [
           {
            "colorbar": {
             "outlinewidth": 0,
             "ticks": ""
            },
            "type": "contourcarpet"
           }
          ],
          "heatmap": [
           {
            "colorbar": {
             "outlinewidth": 0,
             "ticks": ""
            },
            "colorscale": [
             [
              0,
              "#0d0887"
             ],
             [
              0.1111111111111111,
              "#46039f"
             ],
             [
              0.2222222222222222,
              "#7201a8"
             ],
             [
              0.3333333333333333,
              "#9c179e"
             ],
             [
              0.4444444444444444,
              "#bd3786"
             ],
             [
              0.5555555555555556,
              "#d8576b"
             ],
             [
              0.6666666666666666,
              "#ed7953"
             ],
             [
              0.7777777777777778,
              "#fb9f3a"
             ],
             [
              0.8888888888888888,
              "#fdca26"
             ],
             [
              1,
              "#f0f921"
             ]
            ],
            "type": "heatmap"
           }
          ],
          "heatmapgl": [
           {
            "colorbar": {
             "outlinewidth": 0,
             "ticks": ""
            },
            "colorscale": [
             [
              0,
              "#0d0887"
             ],
             [
              0.1111111111111111,
              "#46039f"
             ],
             [
              0.2222222222222222,
              "#7201a8"
             ],
             [
              0.3333333333333333,
              "#9c179e"
             ],
             [
              0.4444444444444444,
              "#bd3786"
             ],
             [
              0.5555555555555556,
              "#d8576b"
             ],
             [
              0.6666666666666666,
              "#ed7953"
             ],
             [
              0.7777777777777778,
              "#fb9f3a"
             ],
             [
              0.8888888888888888,
              "#fdca26"
             ],
             [
              1,
              "#f0f921"
             ]
            ],
            "type": "heatmapgl"
           }
          ],
          "histogram": [
           {
            "marker": {
             "pattern": {
              "fillmode": "overlay",
              "size": 10,
              "solidity": 0.2
             }
            },
            "type": "histogram"
           }
          ],
          "histogram2d": [
           {
            "colorbar": {
             "outlinewidth": 0,
             "ticks": ""
            },
            "colorscale": [
             [
              0,
              "#0d0887"
             ],
             [
              0.1111111111111111,
              "#46039f"
             ],
             [
              0.2222222222222222,
              "#7201a8"
             ],
             [
              0.3333333333333333,
              "#9c179e"
             ],
             [
              0.4444444444444444,
              "#bd3786"
             ],
             [
              0.5555555555555556,
              "#d8576b"
             ],
             [
              0.6666666666666666,
              "#ed7953"
             ],
             [
              0.7777777777777778,
              "#fb9f3a"
             ],
             [
              0.8888888888888888,
              "#fdca26"
             ],
             [
              1,
              "#f0f921"
             ]
            ],
            "type": "histogram2d"
           }
          ],
          "histogram2dcontour": [
           {
            "colorbar": {
             "outlinewidth": 0,
             "ticks": ""
            },
            "colorscale": [
             [
              0,
              "#0d0887"
             ],
             [
              0.1111111111111111,
              "#46039f"
             ],
             [
              0.2222222222222222,
              "#7201a8"
             ],
             [
              0.3333333333333333,
              "#9c179e"
             ],
             [
              0.4444444444444444,
              "#bd3786"
             ],
             [
              0.5555555555555556,
              "#d8576b"
             ],
             [
              0.6666666666666666,
              "#ed7953"
             ],
             [
              0.7777777777777778,
              "#fb9f3a"
             ],
             [
              0.8888888888888888,
              "#fdca26"
             ],
             [
              1,
              "#f0f921"
             ]
            ],
            "type": "histogram2dcontour"
           }
          ],
          "mesh3d": [
           {
            "colorbar": {
             "outlinewidth": 0,
             "ticks": ""
            },
            "type": "mesh3d"
           }
          ],
          "parcoords": [
           {
            "line": {
             "colorbar": {
              "outlinewidth": 0,
              "ticks": ""
             }
            },
            "type": "parcoords"
           }
          ],
          "pie": [
           {
            "automargin": true,
            "type": "pie"
           }
          ],
          "scatter": [
           {
            "fillpattern": {
             "fillmode": "overlay",
             "size": 10,
             "solidity": 0.2
            },
            "type": "scatter"
           }
          ],
          "scatter3d": [
           {
            "line": {
             "colorbar": {
              "outlinewidth": 0,
              "ticks": ""
             }
            },
            "marker": {
             "colorbar": {
              "outlinewidth": 0,
              "ticks": ""
             }
            },
            "type": "scatter3d"
           }
          ],
          "scattercarpet": [
           {
            "marker": {
             "colorbar": {
              "outlinewidth": 0,
              "ticks": ""
             }
            },
            "type": "scattercarpet"
           }
          ],
          "scattergeo": [
           {
            "marker": {
             "colorbar": {
              "outlinewidth": 0,
              "ticks": ""
             }
            },
            "type": "scattergeo"
           }
          ],
          "scattergl": [
           {
            "marker": {
             "colorbar": {
              "outlinewidth": 0,
              "ticks": ""
             }
            },
            "type": "scattergl"
           }
          ],
          "scattermapbox": [
           {
            "marker": {
             "colorbar": {
              "outlinewidth": 0,
              "ticks": ""
             }
            },
            "type": "scattermapbox"
           }
          ],
          "scatterpolar": [
           {
            "marker": {
             "colorbar": {
              "outlinewidth": 0,
              "ticks": ""
             }
            },
            "type": "scatterpolar"
           }
          ],
          "scatterpolargl": [
           {
            "marker": {
             "colorbar": {
              "outlinewidth": 0,
              "ticks": ""
             }
            },
            "type": "scatterpolargl"
           }
          ],
          "scatterternary": [
           {
            "marker": {
             "colorbar": {
              "outlinewidth": 0,
              "ticks": ""
             }
            },
            "type": "scatterternary"
           }
          ],
          "surface": [
           {
            "colorbar": {
             "outlinewidth": 0,
             "ticks": ""
            },
            "colorscale": [
             [
              0,
              "#0d0887"
             ],
             [
              0.1111111111111111,
              "#46039f"
             ],
             [
              0.2222222222222222,
              "#7201a8"
             ],
             [
              0.3333333333333333,
              "#9c179e"
             ],
             [
              0.4444444444444444,
              "#bd3786"
             ],
             [
              0.5555555555555556,
              "#d8576b"
             ],
             [
              0.6666666666666666,
              "#ed7953"
             ],
             [
              0.7777777777777778,
              "#fb9f3a"
             ],
             [
              0.8888888888888888,
              "#fdca26"
             ],
             [
              1,
              "#f0f921"
             ]
            ],
            "type": "surface"
           }
          ],
          "table": [
           {
            "cells": {
             "fill": {
              "color": "#EBF0F8"
             },
             "line": {
              "color": "white"
             }
            },
            "header": {
             "fill": {
              "color": "#C8D4E3"
             },
             "line": {
              "color": "white"
             }
            },
            "type": "table"
           }
          ]
         },
         "layout": {
          "annotationdefaults": {
           "arrowcolor": "#2a3f5f",
           "arrowhead": 0,
           "arrowwidth": 1
          },
          "autotypenumbers": "strict",
          "coloraxis": {
           "colorbar": {
            "outlinewidth": 0,
            "ticks": ""
           }
          },
          "colorscale": {
           "diverging": [
            [
             0,
             "#8e0152"
            ],
            [
             0.1,
             "#c51b7d"
            ],
            [
             0.2,
             "#de77ae"
            ],
            [
             0.3,
             "#f1b6da"
            ],
            [
             0.4,
             "#fde0ef"
            ],
            [
             0.5,
             "#f7f7f7"
            ],
            [
             0.6,
             "#e6f5d0"
            ],
            [
             0.7,
             "#b8e186"
            ],
            [
             0.8,
             "#7fbc41"
            ],
            [
             0.9,
             "#4d9221"
            ],
            [
             1,
             "#276419"
            ]
           ],
           "sequential": [
            [
             0,
             "#0d0887"
            ],
            [
             0.1111111111111111,
             "#46039f"
            ],
            [
             0.2222222222222222,
             "#7201a8"
            ],
            [
             0.3333333333333333,
             "#9c179e"
            ],
            [
             0.4444444444444444,
             "#bd3786"
            ],
            [
             0.5555555555555556,
             "#d8576b"
            ],
            [
             0.6666666666666666,
             "#ed7953"
            ],
            [
             0.7777777777777778,
             "#fb9f3a"
            ],
            [
             0.8888888888888888,
             "#fdca26"
            ],
            [
             1,
             "#f0f921"
            ]
           ],
           "sequentialminus": [
            [
             0,
             "#0d0887"
            ],
            [
             0.1111111111111111,
             "#46039f"
            ],
            [
             0.2222222222222222,
             "#7201a8"
            ],
            [
             0.3333333333333333,
             "#9c179e"
            ],
            [
             0.4444444444444444,
             "#bd3786"
            ],
            [
             0.5555555555555556,
             "#d8576b"
            ],
            [
             0.6666666666666666,
             "#ed7953"
            ],
            [
             0.7777777777777778,
             "#fb9f3a"
            ],
            [
             0.8888888888888888,
             "#fdca26"
            ],
            [
             1,
             "#f0f921"
            ]
           ]
          },
          "colorway": [
           "#636efa",
           "#EF553B",
           "#00cc96",
           "#ab63fa",
           "#FFA15A",
           "#19d3f3",
           "#FF6692",
           "#B6E880",
           "#FF97FF",
           "#FECB52"
          ],
          "font": {
           "color": "#2a3f5f"
          },
          "geo": {
           "bgcolor": "white",
           "lakecolor": "white",
           "landcolor": "#E5ECF6",
           "showlakes": true,
           "showland": true,
           "subunitcolor": "white"
          },
          "hoverlabel": {
           "align": "left"
          },
          "hovermode": "closest",
          "mapbox": {
           "style": "light"
          },
          "paper_bgcolor": "white",
          "plot_bgcolor": "#E5ECF6",
          "polar": {
           "angularaxis": {
            "gridcolor": "white",
            "linecolor": "white",
            "ticks": ""
           },
           "bgcolor": "#E5ECF6",
           "radialaxis": {
            "gridcolor": "white",
            "linecolor": "white",
            "ticks": ""
           }
          },
          "scene": {
           "xaxis": {
            "backgroundcolor": "#E5ECF6",
            "gridcolor": "white",
            "gridwidth": 2,
            "linecolor": "white",
            "showbackground": true,
            "ticks": "",
            "zerolinecolor": "white"
           },
           "yaxis": {
            "backgroundcolor": "#E5ECF6",
            "gridcolor": "white",
            "gridwidth": 2,
            "linecolor": "white",
            "showbackground": true,
            "ticks": "",
            "zerolinecolor": "white"
           },
           "zaxis": {
            "backgroundcolor": "#E5ECF6",
            "gridcolor": "white",
            "gridwidth": 2,
            "linecolor": "white",
            "showbackground": true,
            "ticks": "",
            "zerolinecolor": "white"
           }
          },
          "shapedefaults": {
           "line": {
            "color": "#2a3f5f"
           }
          },
          "ternary": {
           "aaxis": {
            "gridcolor": "white",
            "linecolor": "white",
            "ticks": ""
           },
           "baxis": {
            "gridcolor": "white",
            "linecolor": "white",
            "ticks": ""
           },
           "bgcolor": "#E5ECF6",
           "caxis": {
            "gridcolor": "white",
            "linecolor": "white",
            "ticks": ""
           }
          },
          "title": {
           "x": 0.05
          },
          "xaxis": {
           "automargin": true,
           "gridcolor": "white",
           "linecolor": "white",
           "ticks": "",
           "title": {
            "standoff": 15
           },
           "zerolinecolor": "white",
           "zerolinewidth": 2
          },
          "yaxis": {
           "automargin": true,
           "gridcolor": "white",
           "linecolor": "white",
           "ticks": "",
           "title": {
            "standoff": 15
           },
           "zerolinecolor": "white",
           "zerolinewidth": 2
          }
         }
        },
        "title": {
         "text": "Treemap of Count by Region, Year, Location, and Subregion"
        }
       }
      }
     },
     "metadata": {},
     "output_type": "display_data"
    }
   ],
   "source": [
    "fig = px.treemap(\n",
    "    newdf_6,\n",
    "    path=['Region', 'Subregion', 'Location', 'Year'], \n",
    "    values='Count', \n",
    "    color='Count', \n",
    "    color_continuous_scale='Viridis',\n",
    "    title='Treemap of Count by Region, Year, Location, and Subregion'\n",
    ")\n",
    "\n",
    "# Show the plot\n",
    "fig.show()"
   ]
  },
  {
   "cell_type": "code",
   "execution_count": null,
   "metadata": {},
   "outputs": [],
   "source": []
  }
 ],
 "metadata": {
  "kernelspec": {
   "display_name": "Python 3",
   "language": "python",
   "name": "python3"
  },
  "language_info": {
   "codemirror_mode": {
    "name": "ipython",
    "version": 3
   },
   "file_extension": ".py",
   "mimetype": "text/x-python",
   "name": "python",
   "nbconvert_exporter": "python",
   "pygments_lexer": "ipython3",
   "version": "3.10.0"
  }
 },
 "nbformat": 4,
 "nbformat_minor": 2
}
